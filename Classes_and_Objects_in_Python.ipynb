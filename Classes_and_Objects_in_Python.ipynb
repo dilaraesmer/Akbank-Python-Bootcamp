{
  "nbformat": 4,
  "nbformat_minor": 0,
  "metadata": {
    "colab": {
      "provenance": [],
      "authorship_tag": "ABX9TyP7ukUsVEKldw0fiQ6fiIGE",
      "include_colab_link": true
    },
    "kernelspec": {
      "name": "python3",
      "display_name": "Python 3"
    },
    "language_info": {
      "name": "python"
    }
  },
  "cells": [
    {
      "cell_type": "markdown",
      "metadata": {
        "id": "view-in-github",
        "colab_type": "text"
      },
      "source": [
        "<a href=\"https://colab.research.google.com/github/dilaraesmer/Akbank-Python-Bootcamp/blob/main/Classes_and_Objects_in_Python.ipynb\" target=\"_parent\"><img src=\"https://colab.research.google.com/assets/colab-badge.svg\" alt=\"Open In Colab\"/></a>"
      ]
    },
    {
      "cell_type": "code",
      "source": [
        "class Robot:\n",
        "  def introduce_self(self):\n",
        "    print(\"My favorite color is \" + self.color) # this in Java"
      ],
      "metadata": {
        "id": "c4C2TUpVxzCm"
      },
      "execution_count": 32,
      "outputs": []
    },
    {
      "cell_type": "code",
      "source": [
        "r1 = Robot()\n",
        "r1.name = \"Tom\"\n",
        "r1.color = \"red\"\n",
        "r1.weight = 30\n",
        "\n",
        "r2 = Robot()\n",
        "r2.name = \"Jack\"\n",
        "r2.color = \"purple\"\n",
        "r2.weight = 39\n",
        "\n",
        "r3 = Robot()\n",
        "r3.name = \"Elsa\"\n",
        "r3.color = \"black\"\n",
        "r3.weight = 90\n",
        "\n",
        "r4 = Robot()\n",
        "r4.name = \"Zeyna\"\n",
        "r4.color = \"white\"\n",
        "r4.weight = 65\n",
        "\n",
        "r5 = Robot()\n",
        "r5.name = \"Walter\"\n",
        "r5.color = \"pink\"\n",
        "r5.weight = 150"
      ],
      "metadata": {
        "id": "cvm0TzZR28zA"
      },
      "execution_count": 29,
      "outputs": []
    },
    {
      "cell_type": "code",
      "source": [
        "r1.introduce_self()"
      ],
      "metadata": {
        "colab": {
          "base_uri": "https://localhost:8080/"
        },
        "id": "arhAYbG03L5i",
        "outputId": "162f61db-fe8d-4042-aea6-3ba7aba0673c"
      },
      "execution_count": 33,
      "outputs": [
        {
          "output_type": "stream",
          "name": "stdout",
          "text": [
            "My favorite color is red\n"
          ]
        }
      ]
    },
    {
      "cell_type": "code",
      "source": [
        "r4.introduce_self()"
      ],
      "metadata": {
        "colab": {
          "base_uri": "https://localhost:8080/"
        },
        "id": "PdkhwRXs5B7O",
        "outputId": "d768d852-a15d-401f-8742-c7ba606f267a"
      },
      "execution_count": 34,
      "outputs": [
        {
          "output_type": "stream",
          "name": "stdout",
          "text": [
            "My favorite color is white\n"
          ]
        }
      ]
    },
    {
      "cell_type": "code",
      "source": [
        "class Robot:\n",
        "  def __init__(self, name, color, weight):\n",
        "    self.name = name\n",
        "    self.color = color\n",
        "    self.weight = weight\n",
        "\n",
        "  def introduce_self(self):\n",
        "    print(\"My favorite color is \" + self.color) # this in Java"
      ],
      "metadata": {
        "id": "jOBOn1JI6o-j"
      },
      "execution_count": 38,
      "outputs": []
    },
    {
      "cell_type": "code",
      "source": [
        "r1 = Robot(\"Tom\", \"red\", 30)\n",
        "r2 = Robot(\"Zeyna\", \"white\", 65)"
      ],
      "metadata": {
        "id": "opdd2Z_I7ue9"
      },
      "execution_count": 39,
      "outputs": []
    }
  ]
}