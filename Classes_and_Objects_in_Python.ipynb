{
  "nbformat": 4,
  "nbformat_minor": 0,
  "metadata": {
    "colab": {
      "provenance": [],
      "authorship_tag": "ABX9TyPcJwC1rZSGwWfczW1vXial",
      "include_colab_link": true
    },
    "kernelspec": {
      "name": "python3",
      "display_name": "Python 3"
    },
    "language_info": {
      "name": "python"
    }
  },
  "cells": [
    {
      "cell_type": "markdown",
      "metadata": {
        "id": "view-in-github",
        "colab_type": "text"
      },
      "source": [
        "<a href=\"https://colab.research.google.com/github/dilaraesmer/Akbank-Python-Bootcamp/blob/main/Classes_and_Objects_in_Python.ipynb\" target=\"_parent\"><img src=\"https://colab.research.google.com/assets/colab-badge.svg\" alt=\"Open In Colab\"/></a>"
      ]
    },
    {
      "cell_type": "code",
      "source": [
        "class Robot:\n",
        "  def introduce_self(self):\n",
        "    print(\"My favorite color is \" + self.color) # this in Java"
      ],
      "metadata": {
        "id": "c4C2TUpVxzCm"
      },
      "execution_count": 54,
      "outputs": []
    },
    {
      "cell_type": "code",
      "source": [
        "r1 = Robot()\n",
        "r1.name = \"Tom\"\n",
        "r1.color = \"red\"\n",
        "r1.weight = 30\n",
        "\n",
        "r2 = Robot()\n",
        "r2.name = \"Jack\"\n",
        "r2.color = \"purple\"\n",
        "r2.weight = 39\n",
        "\n",
        "r3 = Robot()\n",
        "r3.name = \"Elsa\"\n",
        "r3.color = \"black\"\n",
        "r3.weight = 90\n",
        "\n",
        "r4 = Robot()\n",
        "r4.name = \"Zeyna\"\n",
        "r4.color = \"white\"\n",
        "r4.weight = 65\n",
        "\n",
        "r5 = Robot()\n",
        "r5.name = \"Walter\"\n",
        "r5.color = \"pink\"\n",
        "r5.weight = 150"
      ],
      "metadata": {
        "id": "cvm0TzZR28zA"
      },
      "execution_count": null,
      "outputs": []
    },
    {
      "cell_type": "code",
      "source": [
        "r1.introduce_self()"
      ],
      "metadata": {
        "colab": {
          "base_uri": "https://localhost:8080/"
        },
        "id": "arhAYbG03L5i",
        "outputId": "8b2cb1d3-9e77-4a3f-d2f8-aac303caad04"
      },
      "execution_count": null,
      "outputs": [
        {
          "output_type": "stream",
          "name": "stdout",
          "text": [
            "My favorite color is red\n"
          ]
        }
      ]
    },
    {
      "cell_type": "code",
      "source": [
        "r4.introduce_self()"
      ],
      "metadata": {
        "colab": {
          "base_uri": "https://localhost:8080/"
        },
        "id": "PdkhwRXs5B7O",
        "outputId": "280681ee-2d2a-4910-9b25-b2eb42db4986"
      },
      "execution_count": null,
      "outputs": [
        {
          "output_type": "stream",
          "name": "stdout",
          "text": [
            "My favorite color is white\n"
          ]
        }
      ]
    },
    {
      "cell_type": "code",
      "source": [
        "class Robot:\n",
        "  def __init__(self, name, color, weight):\n",
        "    self.name = name\n",
        "    self.color = color\n",
        "    self.weight = weight\n",
        "\n",
        "  def introduce_self(self):\n",
        "    print(\"My name is \" + self.name) # this in Java"
      ],
      "metadata": {
        "id": "jOBOn1JI6o-j"
      },
      "execution_count": null,
      "outputs": []
    },
    {
      "cell_type": "code",
      "source": [
        "r1 = Robot(\"Tom\", \"red\", 30)\n",
        "r2 = Robot(\"Zeyna\", \"white\", 65)"
      ],
      "metadata": {
        "id": "opdd2Z_I7ue9"
      },
      "execution_count": null,
      "outputs": []
    },
    {
      "cell_type": "code",
      "source": [
        "r1.introduce_self()"
      ],
      "metadata": {
        "colab": {
          "base_uri": "https://localhost:8080/"
        },
        "id": "q3GGEULv8LfZ",
        "outputId": "193f39ab-84e1-4e51-c9b0-be4726a6f0d1"
      },
      "execution_count": null,
      "outputs": [
        {
          "output_type": "stream",
          "name": "stdout",
          "text": [
            "My name is Tom\n"
          ]
        }
      ]
    },
    {
      "cell_type": "code",
      "source": [
        "r2.introduce_self()"
      ],
      "metadata": {
        "colab": {
          "base_uri": "https://localhost:8080/"
        },
        "id": "Z3Y357On8dbF",
        "outputId": "138e2802-3c04-4776-e34f-80c3f5e80074"
      },
      "execution_count": null,
      "outputs": [
        {
          "output_type": "stream",
          "name": "stdout",
          "text": [
            "My name is Zeyna\n"
          ]
        }
      ]
    },
    {
      "cell_type": "code",
      "source": [
        "class Person:\n",
        "  def __init__(self, n, p, i):\n",
        "    self.name = n\n",
        "    self.personality = p\n",
        "    self.is_sitting = i\n",
        "  \n",
        "  def sit_down(self):\n",
        "    self.is_sitting = True\n",
        "\n",
        "  def stand_up(self):\n",
        "    self.is_sitting = False"
      ],
      "metadata": {
        "id": "3VW0vkS4_5uT"
      },
      "execution_count": 55,
      "outputs": []
    },
    {
      "cell_type": "code",
      "source": [
        "p1 = Person(\"Alice\", \"aggressive\", False)\n",
        "p2 = Person(\"Becky\", \"talkative\", True)"
      ],
      "metadata": {
        "id": "Blhz77TdAvZ3"
      },
      "execution_count": 58,
      "outputs": []
    },
    {
      "cell_type": "code",
      "source": [
        "# p1 owns r2\n",
        "p1.robot_owned = r2\n",
        "p2.robot_owned = r1"
      ],
      "metadata": {
        "id": "rzXtUXqyBP2j"
      },
      "execution_count": 59,
      "outputs": []
    },
    {
      "cell_type": "code",
      "source": [
        "p1.robot_owned.introduce_self()"
      ],
      "metadata": {
        "id": "iW7rELMvBetr",
        "outputId": "f3130914-a5f0-4330-8000-e5f89d1b21c4",
        "colab": {
          "base_uri": "https://localhost:8080/"
        }
      },
      "execution_count": 60,
      "outputs": [
        {
          "output_type": "stream",
          "name": "stdout",
          "text": [
            "My name is Zeyna\n"
          ]
        }
      ]
    },
    {
      "cell_type": "markdown",
      "source": [
        "Example:"
      ],
      "metadata": {
        "id": "ACvow1Z2Dx8_"
      }
    },
    {
      "cell_type": "code",
      "source": [
        "class Polygon:\n",
        "  def __init__(self, sides, name):\n",
        "    self.sides = sides\n",
        "    self.name = name"
      ],
      "metadata": {
        "id": "rKgC26xTDxHs"
      },
      "execution_count": 61,
      "outputs": []
    },
    {
      "cell_type": "code",
      "source": [
        "square = Polygon(4, \"Square\")\n",
        "pentagon = "
      ],
      "metadata": {
        "id": "etP_9FI0EKpe"
      },
      "execution_count": null,
      "outputs": []
    }
  ]
}