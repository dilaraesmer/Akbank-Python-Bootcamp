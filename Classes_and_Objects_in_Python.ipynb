{
  "nbformat": 4,
  "nbformat_minor": 0,
  "metadata": {
    "colab": {
      "provenance": [],
      "authorship_tag": "ABX9TyPvmDGPfxk74hTF1v4eRcIF",
      "include_colab_link": true
    },
    "kernelspec": {
      "name": "python3",
      "display_name": "Python 3"
    },
    "language_info": {
      "name": "python"
    }
  },
  "cells": [
    {
      "cell_type": "markdown",
      "metadata": {
        "id": "view-in-github",
        "colab_type": "text"
      },
      "source": [
        "<a href=\"https://colab.research.google.com/github/dilaraesmer/Akbank-Python-Bootcamp/blob/main/Classes_and_Objects_in_Python.ipynb\" target=\"_parent\"><img src=\"https://colab.research.google.com/assets/colab-badge.svg\" alt=\"Open In Colab\"/></a>"
      ]
    },
    {
      "cell_type": "code",
      "source": [
        "class Robot:\n",
        "  def introduce_self(self):\n",
        "    print(\"My favorite color is \" + self.color) # this in Java"
      ],
      "metadata": {
        "id": "c4C2TUpVxzCm"
      },
      "execution_count": 1,
      "outputs": []
    },
    {
      "cell_type": "code",
      "source": [
        "r1 = Robot()\n",
        "r1.name = \"Tom\"\n",
        "r1.color = \"red\"\n",
        "r1.weight = 30\n",
        "\n",
        "r2 = Robot()\n",
        "r2.name = \"Jack\"\n",
        "r2.color = \"purple\"\n",
        "r2.weight = 39\n",
        "\n",
        "r3 = Robot()\n",
        "r3.name = \"Elsa\"\n",
        "r3.color = \"black\"\n",
        "r3.weight = 90\n",
        "\n",
        "r4 = Robot()\n",
        "r4.name = \"Zeyna\"\n",
        "r4.color = \"white\"\n",
        "r4.weight = 65\n",
        "\n",
        "r5 = Robot()\n",
        "r5.name = \"Walter\"\n",
        "r5.color = \"pink\"\n",
        "r5.weight = 150"
      ],
      "metadata": {
        "id": "cvm0TzZR28zA"
      },
      "execution_count": 2,
      "outputs": []
    },
    {
      "cell_type": "code",
      "source": [
        "r1.introduce_self()"
      ],
      "metadata": {
        "colab": {
          "base_uri": "https://localhost:8080/"
        },
        "id": "arhAYbG03L5i",
        "outputId": "fadec0e9-85c4-4a9d-ec00-987beff327a2"
      },
      "execution_count": 3,
      "outputs": [
        {
          "output_type": "stream",
          "name": "stdout",
          "text": [
            "My favorite color is red\n"
          ]
        }
      ]
    },
    {
      "cell_type": "code",
      "source": [
        "r4.introduce_self()"
      ],
      "metadata": {
        "colab": {
          "base_uri": "https://localhost:8080/"
        },
        "id": "PdkhwRXs5B7O",
        "outputId": "004b0d73-bbb6-4b2e-c1ab-20f49bbae921"
      },
      "execution_count": 4,
      "outputs": [
        {
          "output_type": "stream",
          "name": "stdout",
          "text": [
            "My favorite color is white\n"
          ]
        }
      ]
    },
    {
      "cell_type": "code",
      "source": [
        "class Robot:\n",
        "  def __init__(self, name, color, weight):\n",
        "    self.name = name\n",
        "    self.color = color\n",
        "    self.weight = weight\n",
        "\n",
        "  def introduce_self(self):\n",
        "    print(\"My name is \" + self.name) # this in Java"
      ],
      "metadata": {
        "id": "jOBOn1JI6o-j"
      },
      "execution_count": 5,
      "outputs": []
    },
    {
      "cell_type": "code",
      "source": [
        "r1 = Robot(\"Tom\", \"red\", 30)\n",
        "r2 = Robot(\"Zeyna\", \"white\", 65)"
      ],
      "metadata": {
        "id": "opdd2Z_I7ue9"
      },
      "execution_count": 6,
      "outputs": []
    },
    {
      "cell_type": "code",
      "source": [
        "r1.introduce_self()"
      ],
      "metadata": {
        "colab": {
          "base_uri": "https://localhost:8080/"
        },
        "id": "q3GGEULv8LfZ",
        "outputId": "a17f863c-5913-4a65-e626-75257448b767"
      },
      "execution_count": 7,
      "outputs": [
        {
          "output_type": "stream",
          "name": "stdout",
          "text": [
            "My name is Tom\n"
          ]
        }
      ]
    },
    {
      "cell_type": "code",
      "source": [
        "r2.introduce_self()"
      ],
      "metadata": {
        "colab": {
          "base_uri": "https://localhost:8080/"
        },
        "id": "Z3Y357On8dbF",
        "outputId": "f08dfccd-14b0-45b1-ad78-953b3c6415a6"
      },
      "execution_count": 8,
      "outputs": [
        {
          "output_type": "stream",
          "name": "stdout",
          "text": [
            "My name is Zeyna\n"
          ]
        }
      ]
    },
    {
      "cell_type": "code",
      "source": [
        "class Person:\n",
        "  def __init__(self, n, p, i):\n",
        "    self.name = n\n",
        "    self.personality = p\n",
        "    self.is_sitting = i\n",
        "  \n",
        "  def sit_down(self):\n",
        "    self.is_sitting = True\n",
        "\n",
        "  def stand_up(self):\n",
        "    self.is_sitting = False"
      ],
      "metadata": {
        "id": "3VW0vkS4_5uT"
      },
      "execution_count": 9,
      "outputs": []
    },
    {
      "cell_type": "code",
      "source": [
        "p1 = Person(\"Alice\", \"aggressive\", False)\n",
        "p2 = Person(\"Becky\", \"talkative\", True)"
      ],
      "metadata": {
        "id": "Blhz77TdAvZ3"
      },
      "execution_count": 10,
      "outputs": []
    },
    {
      "cell_type": "code",
      "source": [
        "# p1 owns r2\n",
        "p1.robot_owned = r2\n",
        "p2.robot_owned = r1"
      ],
      "metadata": {
        "id": "rzXtUXqyBP2j"
      },
      "execution_count": 11,
      "outputs": []
    },
    {
      "cell_type": "code",
      "source": [
        "p1.robot_owned.introduce_self()"
      ],
      "metadata": {
        "id": "iW7rELMvBetr",
        "outputId": "19f9ee24-5d85-4fe2-8a36-857c2f866969",
        "colab": {
          "base_uri": "https://localhost:8080/"
        }
      },
      "execution_count": 12,
      "outputs": [
        {
          "output_type": "stream",
          "name": "stdout",
          "text": [
            "My name is Zeyna\n"
          ]
        }
      ]
    },
    {
      "cell_type": "markdown",
      "source": [
        "Example:"
      ],
      "metadata": {
        "id": "ACvow1Z2Dx8_"
      }
    },
    {
      "cell_type": "code",
      "source": [
        "class Polygon:\n",
        "  def __init__(self, sides, name):\n",
        "    self.sides = sides\n",
        "    self.name = name\n",
        "    self.interior_angles = (self.sides-2)*180\n",
        "    self.angle = self.interior_angles/self.sides\n",
        "  \n",
        "  def draw(self):\n",
        "\n",
        "    for i in range(self.sides):\n",
        "      turtle.forward(100)\n",
        "      turtle.right(self.angle)\n",
        "    turtle.done()           "
      ],
      "metadata": {
        "id": "rKgC26xTDxHs"
      },
      "execution_count": 27,
      "outputs": []
    },
    {
      "cell_type": "code",
      "source": [
        "square = Polygon(4, \"Square\")\n",
        "pentagon = Polygon(5, \"Pentagon\")"
      ],
      "metadata": {
        "id": "etP_9FI0EKpe"
      },
      "execution_count": 28,
      "outputs": []
    },
    {
      "cell_type": "code",
      "source": [
        "print(square.sides)\n",
        "print(square.name)\n",
        "print(square.interior_angles)\n",
        "print(square.angle)"
      ],
      "metadata": {
        "colab": {
          "base_uri": "https://localhost:8080/"
        },
        "id": "JEh4u6WKEcnQ",
        "outputId": "71d6df43-9aa7-4364-c361-93b3f31983d3"
      },
      "execution_count": 29,
      "outputs": [
        {
          "output_type": "stream",
          "name": "stdout",
          "text": [
            "4\n",
            "Square\n",
            "360\n",
            "90.0\n"
          ]
        }
      ]
    },
    {
      "cell_type": "code",
      "source": [
        "print(pentagon.sides)\n",
        "print(pentagon.name)"
      ],
      "metadata": {
        "colab": {
          "base_uri": "https://localhost:8080/"
        },
        "id": "BBgdyD1nEg82",
        "outputId": "cd156e37-c585-40c8-8474-d3ce631a434c"
      },
      "execution_count": 16,
      "outputs": [
        {
          "output_type": "stream",
          "name": "stdout",
          "text": [
            "5\n",
            "Pentagon\n"
          ]
        }
      ]
    },
    {
      "cell_type": "code",
      "source": [
        "hexagon = Polygon(6, \"Hexagon\")\n",
        "hexagon.draw()"
      ],
      "metadata": {
        "colab": {
          "base_uri": "https://localhost:8080/",
          "height": 304
        },
        "id": "R4F1MqaKYh7J",
        "outputId": "110617f3-fc0e-46db-be94-b797f048d0a8"
      },
      "execution_count": 31,
      "outputs": [
        {
          "output_type": "error",
          "ename": "NameError",
          "evalue": "ignored",
          "traceback": [
            "\u001b[0;31m---------------------------------------------------------------------------\u001b[0m",
            "\u001b[0;31mNameError\u001b[0m                                 Traceback (most recent call last)",
            "\u001b[0;32m<ipython-input-31-3fa42c722cfb>\u001b[0m in \u001b[0;36m<module>\u001b[0;34m\u001b[0m\n\u001b[1;32m      1\u001b[0m \u001b[0mhexagon\u001b[0m \u001b[0;34m=\u001b[0m \u001b[0mPolygon\u001b[0m\u001b[0;34m(\u001b[0m\u001b[0;36m6\u001b[0m\u001b[0;34m,\u001b[0m \u001b[0;34m\"Hexagon\"\u001b[0m\u001b[0;34m)\u001b[0m\u001b[0;34m\u001b[0m\u001b[0;34m\u001b[0m\u001b[0m\n\u001b[0;32m----> 2\u001b[0;31m \u001b[0mhexagon\u001b[0m\u001b[0;34m.\u001b[0m\u001b[0mdraw\u001b[0m\u001b[0;34m(\u001b[0m\u001b[0;34m)\u001b[0m\u001b[0;34m\u001b[0m\u001b[0;34m\u001b[0m\u001b[0m\n\u001b[0m",
            "\u001b[0;32m<ipython-input-27-5761ff44da3e>\u001b[0m in \u001b[0;36mdraw\u001b[0;34m(self)\u001b[0m\n\u001b[1;32m      9\u001b[0m \u001b[0;34m\u001b[0m\u001b[0m\n\u001b[1;32m     10\u001b[0m     \u001b[0;32mfor\u001b[0m \u001b[0mi\u001b[0m \u001b[0;32min\u001b[0m \u001b[0mrange\u001b[0m\u001b[0;34m(\u001b[0m\u001b[0mself\u001b[0m\u001b[0;34m.\u001b[0m\u001b[0msides\u001b[0m\u001b[0;34m)\u001b[0m\u001b[0;34m:\u001b[0m\u001b[0;34m\u001b[0m\u001b[0;34m\u001b[0m\u001b[0m\n\u001b[0;32m---> 11\u001b[0;31m       \u001b[0mturtle\u001b[0m\u001b[0;34m.\u001b[0m\u001b[0mforward\u001b[0m\u001b[0;34m(\u001b[0m\u001b[0;36m100\u001b[0m\u001b[0;34m)\u001b[0m\u001b[0;34m\u001b[0m\u001b[0;34m\u001b[0m\u001b[0m\n\u001b[0m\u001b[1;32m     12\u001b[0m       \u001b[0mturtle\u001b[0m\u001b[0;34m.\u001b[0m\u001b[0mright\u001b[0m\u001b[0;34m(\u001b[0m\u001b[0mself\u001b[0m\u001b[0;34m.\u001b[0m\u001b[0mangle\u001b[0m\u001b[0;34m)\u001b[0m\u001b[0;34m\u001b[0m\u001b[0;34m\u001b[0m\u001b[0m\n\u001b[1;32m     13\u001b[0m     \u001b[0mturtle\u001b[0m\u001b[0;34m.\u001b[0m\u001b[0mdone\u001b[0m\u001b[0;34m(\u001b[0m\u001b[0;34m)\u001b[0m\u001b[0;34m\u001b[0m\u001b[0;34m\u001b[0m\u001b[0m\n",
            "\u001b[0;31mNameError\u001b[0m: name 'turtle' is not defined"
          ]
        }
      ]
    }
  ]
}