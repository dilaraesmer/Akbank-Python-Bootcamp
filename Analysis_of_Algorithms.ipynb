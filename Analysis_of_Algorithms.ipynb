{
  "nbformat": 4,
  "nbformat_minor": 0,
  "metadata": {
    "colab": {
      "provenance": [],
      "authorship_tag": "ABX9TyPNX1Tu32sV/Fucd1W2Xh1G",
      "include_colab_link": true
    },
    "kernelspec": {
      "name": "python3",
      "display_name": "Python 3"
    },
    "language_info": {
      "name": "python"
    }
  },
  "cells": [
    {
      "cell_type": "markdown",
      "metadata": {
        "id": "view-in-github",
        "colab_type": "text"
      },
      "source": [
        "<a href=\"https://colab.research.google.com/github/dilaraesmer/Akbank-Python-Bootcamp/blob/main/Analysis_of_Algorithms.ipynb\" target=\"_parent\"><img src=\"https://colab.research.google.com/assets/colab-badge.svg\" alt=\"Open In Colab\"/></a>"
      ]
    },
    {
      "cell_type": "markdown",
      "source": [
        "Types of Algorithm Analysis:\n",
        "\n",
        "1-Best case \n",
        "\n",
        "2-Worst case\n",
        "\n",
        "3-Average case"
      ],
      "metadata": {
        "id": "c571mUkdvEv_"
      }
    },
    {
      "cell_type": "code",
      "execution_count": 20,
      "metadata": {
        "id": "t8M8y_28un5F",
        "colab": {
          "base_uri": "https://localhost:8080/"
        },
        "outputId": "c1eb7b43-5b79-475f-83d7-dbc4b36ca63e"
      },
      "outputs": [
        {
          "output_type": "execute_result",
          "data": {
            "text/plain": [
              "tuple"
            ]
          },
          "metadata": {},
          "execution_count": 20
        }
      ],
      "source": [
        "# Tuple\n",
        "a = (1,2,3,4,4,4,4)\n",
        "type(a)"
      ]
    },
    {
      "cell_type": "code",
      "source": [
        "a.count(4)"
      ],
      "metadata": {
        "colab": {
          "base_uri": "https://localhost:8080/"
        },
        "id": "GlSxxx_MvfiD",
        "outputId": "36e9bc90-d842-4653-8bc5-e94722466ea9"
      },
      "execution_count": 21,
      "outputs": [
        {
          "output_type": "execute_result",
          "data": {
            "text/plain": [
              "4"
            ]
          },
          "metadata": {},
          "execution_count": 21
        }
      ]
    },
    {
      "cell_type": "code",
      "source": [
        "a.index(3)"
      ],
      "metadata": {
        "colab": {
          "base_uri": "https://localhost:8080/"
        },
        "id": "pu-xM8PrvpkX",
        "outputId": "ed0b7776-8d97-4ecc-d399-420eede241a3"
      },
      "execution_count": 22,
      "outputs": [
        {
          "output_type": "execute_result",
          "data": {
            "text/plain": [
              "2"
            ]
          },
          "metadata": {},
          "execution_count": 22
        }
      ]
    },
    {
      "cell_type": "code",
      "source": [
        "a = (1,2,3,4,5,6,7,8,9)\n",
        "a[4]"
      ],
      "metadata": {
        "colab": {
          "base_uri": "https://localhost:8080/"
        },
        "id": "pdsguyadvtly",
        "outputId": "23cbda48-52d1-4ce4-96a0-e4400513bd61"
      },
      "execution_count": 23,
      "outputs": [
        {
          "output_type": "execute_result",
          "data": {
            "text/plain": [
              "5"
            ]
          },
          "metadata": {},
          "execution_count": 23
        }
      ]
    },
    {
      "cell_type": "code",
      "source": [
        "a[-2]"
      ],
      "metadata": {
        "colab": {
          "base_uri": "https://localhost:8080/"
        },
        "id": "KsD2L8G1xiEe",
        "outputId": "c02c9de1-ef9d-4f9c-ec3e-eb18594e7540"
      },
      "execution_count": 24,
      "outputs": [
        {
          "output_type": "execute_result",
          "data": {
            "text/plain": [
              "8"
            ]
          },
          "metadata": {},
          "execution_count": 24
        }
      ]
    },
    {
      "cell_type": "code",
      "source": [
        "list_exp = [1,2,3,4]\n",
        "list_exp[0] = 2"
      ],
      "metadata": {
        "id": "Y89z3wayx7Bo"
      },
      "execution_count": null,
      "outputs": []
    },
    {
      "cell_type": "code",
      "source": [
        "list_exp"
      ],
      "metadata": {
        "colab": {
          "base_uri": "https://localhost:8080/"
        },
        "id": "NpcU9aGDyLDC",
        "outputId": "c031406b-d64a-4cee-f70f-efe5226489ae"
      },
      "execution_count": null,
      "outputs": [
        {
          "output_type": "execute_result",
          "data": {
            "text/plain": [
              "[2, 2, 3, 4]"
            ]
          },
          "metadata": {},
          "execution_count": 7
        }
      ]
    },
    {
      "cell_type": "code",
      "source": [
        "a"
      ],
      "metadata": {
        "colab": {
          "base_uri": "https://localhost:8080/"
        },
        "id": "NcUATXiQyfc9",
        "outputId": "2e04c48c-845d-43e3-b8a9-cdc7315d90bf"
      },
      "execution_count": null,
      "outputs": [
        {
          "output_type": "execute_result",
          "data": {
            "text/plain": [
              "(1, 2, 3, 4, 5, 6, 7, 8, 9)"
            ]
          },
          "metadata": {},
          "execution_count": 8
        }
      ]
    },
    {
      "cell_type": "code",
      "source": [
        "# ERROR \n",
        "# 'tuple' object does not support item assignment\n",
        "a[0] = 3"
      ],
      "metadata": {
        "id": "MR9NSBgkygoq"
      },
      "execution_count": 27,
      "outputs": []
    },
    {
      "cell_type": "code",
      "source": [
        "a = {\n",
        "    \"Python\" : 234,\n",
        "     \"C++\" : 89,\n",
        "     \"Java\" : 34\n",
        "}\n",
        "type(a)"
      ],
      "metadata": {
        "id": "gL9_OKSIy_kS",
        "colab": {
          "base_uri": "https://localhost:8080/"
        },
        "outputId": "58947423-cb0d-4bfd-c674-a19ab4d1f3c9"
      },
      "execution_count": 25,
      "outputs": [
        {
          "output_type": "execute_result",
          "data": {
            "text/plain": [
              "dict"
            ]
          },
          "metadata": {},
          "execution_count": 25
        }
      ]
    },
    {
      "cell_type": "code",
      "source": [
        "empty_dict = {}\n",
        "type(empty_dict)"
      ],
      "metadata": {
        "id": "r4hY1x2MzqZa",
        "colab": {
          "base_uri": "https://localhost:8080/"
        },
        "outputId": "454b9da9-2dbe-4b16-c4f3-5af4ffce6a06"
      },
      "execution_count": 26,
      "outputs": [
        {
          "output_type": "execute_result",
          "data": {
            "text/plain": [
              "dict"
            ]
          },
          "metadata": {},
          "execution_count": 26
        }
      ]
    },
    {
      "cell_type": "code",
      "source": [
        "a = {1,2,3,4}\n",
        "type(a)"
      ],
      "metadata": {
        "id": "wzXfGXcO0JfA",
        "colab": {
          "base_uri": "https://localhost:8080/"
        },
        "outputId": "f3f89c99-1e52-4e1b-ab26-84d71f1cf051"
      },
      "execution_count": 28,
      "outputs": [
        {
          "output_type": "execute_result",
          "data": {
            "text/plain": [
              "set"
            ]
          },
          "metadata": {},
          "execution_count": 28
        }
      ]
    },
    {
      "cell_type": "code",
      "source": [
        "empty_set = set()\n",
        "type(empty_set)"
      ],
      "metadata": {
        "id": "YLjY9Dny0Q3Q",
        "colab": {
          "base_uri": "https://localhost:8080/"
        },
        "outputId": "bb32f4d0-03ab-44ea-f4f6-29beddc9b7a0"
      },
      "execution_count": 29,
      "outputs": [
        {
          "output_type": "execute_result",
          "data": {
            "text/plain": [
              "set"
            ]
          },
          "metadata": {},
          "execution_count": 29
        }
      ]
    },
    {
      "cell_type": "code",
      "source": [
        "s2 = {1,2,3,4,5,5,5,5,6,7,8,8,9}\n",
        "s2"
      ],
      "metadata": {
        "id": "oLJ71ojC0f6H",
        "colab": {
          "base_uri": "https://localhost:8080/"
        },
        "outputId": "121aa6b1-8654-4ccd-df60-811ec8ea9285"
      },
      "execution_count": 30,
      "outputs": [
        {
          "output_type": "execute_result",
          "data": {
            "text/plain": [
              "{1, 2, 3, 4, 5, 6, 7, 8, 9}"
            ]
          },
          "metadata": {},
          "execution_count": 30
        }
      ]
    },
    {
      "cell_type": "code",
      "source": [
        "2 in s2"
      ],
      "metadata": {
        "id": "NOf0K0Wj0sag",
        "colab": {
          "base_uri": "https://localhost:8080/"
        },
        "outputId": "2afd0cd4-acf3-4256-9aa7-02cdb5baf08a"
      },
      "execution_count": 31,
      "outputs": [
        {
          "output_type": "execute_result",
          "data": {
            "text/plain": [
              "True"
            ]
          },
          "metadata": {},
          "execution_count": 31
        }
      ]
    },
    {
      "cell_type": "code",
      "source": [
        "tuple1 = (1,2,3,4,5)\n",
        "tuple1[0]"
      ],
      "metadata": {
        "id": "eTeMn1oC51rR",
        "colab": {
          "base_uri": "https://localhost:8080/"
        },
        "outputId": "cac141d3-f87d-4bd6-9d78-98122542d236"
      },
      "execution_count": 32,
      "outputs": [
        {
          "output_type": "execute_result",
          "data": {
            "text/plain": [
              "1"
            ]
          },
          "metadata": {},
          "execution_count": 32
        }
      ]
    },
    {
      "cell_type": "code",
      "source": [
        "# ERROR \n",
        "# 'type' object does not support item assignment\n",
        "tuple[5] = 0"
      ],
      "metadata": {
        "id": "NOxQaT03FSuN",
        "colab": {
          "base_uri": "https://localhost:8080/",
          "height": 200
        },
        "outputId": "4aacdba8-554f-460e-9094-8a6cd59de9eb"
      },
      "execution_count": 33,
      "outputs": [
        {
          "output_type": "error",
          "ename": "TypeError",
          "evalue": "ignored",
          "traceback": [
            "\u001b[0;31m---------------------------------------------------------------------------\u001b[0m",
            "\u001b[0;31mTypeError\u001b[0m                                 Traceback (most recent call last)",
            "\u001b[0;32m<ipython-input-33-d78afb5f3079>\u001b[0m in \u001b[0;36m<module>\u001b[0;34m\u001b[0m\n\u001b[1;32m      1\u001b[0m \u001b[0;31m# ERROR\u001b[0m\u001b[0;34m\u001b[0m\u001b[0;34m\u001b[0m\u001b[0;34m\u001b[0m\u001b[0m\n\u001b[1;32m      2\u001b[0m \u001b[0;31m# 'type' object does not support item assignment\u001b[0m\u001b[0;34m\u001b[0m\u001b[0;34m\u001b[0m\u001b[0;34m\u001b[0m\u001b[0m\n\u001b[0;32m----> 3\u001b[0;31m \u001b[0mtuple\u001b[0m\u001b[0;34m[\u001b[0m\u001b[0;36m5\u001b[0m\u001b[0;34m]\u001b[0m \u001b[0;34m=\u001b[0m \u001b[0;36m0\u001b[0m\u001b[0;34m\u001b[0m\u001b[0;34m\u001b[0m\u001b[0m\n\u001b[0m",
            "\u001b[0;31mTypeError\u001b[0m: 'type' object does not support item assignment"
          ]
        }
      ]
    },
    {
      "cell_type": "code",
      "source": [
        "# ERROR\n",
        "# 'set' object does not support item assignment\n",
        "s2[5] = 132"
      ],
      "metadata": {
        "id": "8XSEZJLFF_oy",
        "colab": {
          "base_uri": "https://localhost:8080/",
          "height": 200
        },
        "outputId": "a87e720a-10c9-4984-8311-e1b9e0a63102"
      },
      "execution_count": 34,
      "outputs": [
        {
          "output_type": "error",
          "ename": "TypeError",
          "evalue": "ignored",
          "traceback": [
            "\u001b[0;31m---------------------------------------------------------------------------\u001b[0m",
            "\u001b[0;31mTypeError\u001b[0m                                 Traceback (most recent call last)",
            "\u001b[0;32m<ipython-input-34-89a4122a3d91>\u001b[0m in \u001b[0;36m<module>\u001b[0;34m\u001b[0m\n\u001b[1;32m      1\u001b[0m \u001b[0;31m# ERROR\u001b[0m\u001b[0;34m\u001b[0m\u001b[0;34m\u001b[0m\u001b[0;34m\u001b[0m\u001b[0m\n\u001b[1;32m      2\u001b[0m \u001b[0;31m# 'set' object does not support item assignment\u001b[0m\u001b[0;34m\u001b[0m\u001b[0;34m\u001b[0m\u001b[0;34m\u001b[0m\u001b[0m\n\u001b[0;32m----> 3\u001b[0;31m \u001b[0ms2\u001b[0m\u001b[0;34m[\u001b[0m\u001b[0;36m5\u001b[0m\u001b[0;34m]\u001b[0m \u001b[0;34m=\u001b[0m \u001b[0;36m132\u001b[0m\u001b[0;34m\u001b[0m\u001b[0;34m\u001b[0m\u001b[0m\n\u001b[0m",
            "\u001b[0;31mTypeError\u001b[0m: 'set' object does not support item assignment"
          ]
        }
      ]
    },
    {
      "cell_type": "code",
      "source": [
        "s2.add('de')\n",
        "s2"
      ],
      "metadata": {
        "id": "vP24PGdSGFT2",
        "colab": {
          "base_uri": "https://localhost:8080/"
        },
        "outputId": "3ea34bb2-164f-42fb-82e7-4875e4003271"
      },
      "execution_count": 35,
      "outputs": [
        {
          "output_type": "execute_result",
          "data": {
            "text/plain": [
              "{1, 2, 3, 4, 5, 6, 7, 8, 9, 'de'}"
            ]
          },
          "metadata": {},
          "execution_count": 35
        }
      ]
    },
    {
      "cell_type": "code",
      "source": [
        "def print_bootcamp_participant():\n",
        "  print(\"We are glad you are here ! :)\")"
      ],
      "metadata": {
        "id": "jkcFHee5G2nm"
      },
      "execution_count": 36,
      "outputs": []
    },
    {
      "cell_type": "code",
      "source": [
        "print_bootcamp_participant()"
      ],
      "metadata": {
        "id": "_F2UvssiHftf",
        "colab": {
          "base_uri": "https://localhost:8080/"
        },
        "outputId": "ba3b4a6e-27d4-4ae0-a8c8-c20047cc4730"
      },
      "execution_count": 37,
      "outputs": [
        {
          "output_type": "stream",
          "name": "stdout",
          "text": [
            "We are glad you are here ! :)\n"
          ]
        }
      ]
    },
    {
      "cell_type": "code",
      "source": [
        "def print_return():\n",
        "  print(\"We are glad you are here ! :)\")"
      ],
      "metadata": {
        "id": "Qw8C625eHtGk"
      },
      "execution_count": 38,
      "outputs": []
    },
    {
      "cell_type": "code",
      "source": [
        "print_return()"
      ],
      "metadata": {
        "id": "ZfgzFRDWIBpi",
        "colab": {
          "base_uri": "https://localhost:8080/"
        },
        "outputId": "ac3a4a00-f56e-492f-8179-73536aa8eeca"
      },
      "execution_count": 39,
      "outputs": [
        {
          "output_type": "stream",
          "name": "stdout",
          "text": [
            "We are glad you are here ! :)\n"
          ]
        }
      ]
    },
    {
      "cell_type": "code",
      "source": [
        "def parameter_func(name):\n",
        "  return \"Hello \" + name + \"I am 100 years old \" + \"You're old but gold \""
      ],
      "metadata": {
        "id": "WlyRTgNdIWSo"
      },
      "execution_count": 40,
      "outputs": []
    },
    {
      "cell_type": "code",
      "source": [
        "parameter_func(\"Dilara \")"
      ],
      "metadata": {
        "id": "LFntBVa_Je3a",
        "colab": {
          "base_uri": "https://localhost:8080/",
          "height": 35
        },
        "outputId": "47af52ce-d7d8-431c-ad5f-75e57e64a3d9"
      },
      "execution_count": 41,
      "outputs": [
        {
          "output_type": "execute_result",
          "data": {
            "text/plain": [
              "\"Hello Dilara I am 100 years old You're old but gold \""
            ],
            "application/vnd.google.colaboratory.intrinsic+json": {
              "type": "string"
            }
          },
          "metadata": {},
          "execution_count": 41
        }
      ]
    },
    {
      "cell_type": "code",
      "source": [
        "parameter_func(\"Deniz \")"
      ],
      "metadata": {
        "id": "3g2u3bMPJjla",
        "colab": {
          "base_uri": "https://localhost:8080/",
          "height": 35
        },
        "outputId": "cf3d45df-dabb-4ca1-d686-45a26466374e"
      },
      "execution_count": 42,
      "outputs": [
        {
          "output_type": "execute_result",
          "data": {
            "text/plain": [
              "\"Hello Deniz I am 100 years old You're old but gold \""
            ],
            "application/vnd.google.colaboratory.intrinsic+json": {
              "type": "string"
            }
          },
          "metadata": {},
          "execution_count": 42
        }
      ]
    },
    {
      "cell_type": "code",
      "source": [
        "sum([1,2,3,4,5])"
      ],
      "metadata": {
        "id": "OHLjgjMGKxSA",
        "colab": {
          "base_uri": "https://localhost:8080/"
        },
        "outputId": "99e710e8-f65e-4224-a124-314c3b93793a"
      },
      "execution_count": 43,
      "outputs": [
        {
          "output_type": "execute_result",
          "data": {
            "text/plain": [
              "15"
            ]
          },
          "metadata": {},
          "execution_count": 43
        }
      ]
    },
    {
      "cell_type": "code",
      "source": [
        "list1 = [1,2,3,4,5]\n",
        "result = 0\n",
        "\n",
        "for i in list1:\n",
        "  result += i\n",
        "  print(result)"
      ],
      "metadata": {
        "id": "r1YZ8e9jMyyt",
        "colab": {
          "base_uri": "https://localhost:8080/"
        },
        "outputId": "7925907e-aec1-47c0-e0d3-5a96be770d92"
      },
      "execution_count": 44,
      "outputs": [
        {
          "output_type": "stream",
          "name": "stdout",
          "text": [
            "1\n",
            "3\n",
            "6\n",
            "10\n",
            "15\n"
          ]
        }
      ]
    },
    {
      "cell_type": "code",
      "source": [
        "def sum_list(list1):\n",
        "  result = 0\n",
        "  for i in list1:\n",
        "    result += i\n",
        "  print(result)"
      ],
      "metadata": {
        "id": "eH6BmPYSSArO"
      },
      "execution_count": null,
      "outputs": []
    },
    {
      "cell_type": "code",
      "source": [
        "sum_list(list1)"
      ],
      "metadata": {
        "colab": {
          "base_uri": "https://localhost:8080/"
        },
        "id": "5f4QQvfiSrVL",
        "outputId": "efa9ce7d-6e50-484d-a68a-e1ab12f2d697"
      },
      "execution_count": 45,
      "outputs": [
        {
          "output_type": "stream",
          "name": "stdout",
          "text": [
            "15\n"
          ]
        }
      ]
    },
    {
      "cell_type": "code",
      "source": [
        "# Sum of squares of numbers 0 to n\n",
        "def square_sum(n):\n",
        "  result = 0\n",
        "  for x in range(1, n+1):\n",
        "    result = result + x ** 2\n",
        "  return result"
      ],
      "metadata": {
        "id": "7jVN5rnOLu6e"
      },
      "execution_count": null,
      "outputs": []
    },
    {
      "cell_type": "code",
      "source": [
        "list = [1,2,3,4,37,24,46,78]\n",
        "list.sort() # Timsort = merge sort & insertion sort\n",
        "list"
      ],
      "metadata": {
        "colab": {
          "base_uri": "https://localhost:8080/"
        },
        "id": "W28CYvczX87Y",
        "outputId": "de8a0833-549e-497c-e1db-1cf35bfba4af"
      },
      "execution_count": null,
      "outputs": [
        {
          "output_type": "execute_result",
          "data": {
            "text/plain": [
              "[1, 2, 3, 4, 24, 37, 46, 78]"
            ]
          },
          "metadata": {},
          "execution_count": 15
        }
      ]
    },
    {
      "cell_type": "code",
      "source": [
        "square_sum(5)"
      ],
      "metadata": {
        "colab": {
          "base_uri": "https://localhost:8080/"
        },
        "id": "Q-h9qONUUzbL",
        "outputId": "ba16f409-d245-4f60-8af2-ecb21ebe26a5"
      },
      "execution_count": null,
      "outputs": [
        {
          "output_type": "execute_result",
          "data": {
            "text/plain": [
              "55"
            ]
          },
          "metadata": {},
          "execution_count": 16
        }
      ]
    },
    {
      "cell_type": "code",
      "source": [
        "def square_sum2(n):\n",
        "  return n * (n + 1) * (2 * n + 1) / 6"
      ],
      "metadata": {
        "id": "ss6F0fr0VMH7"
      },
      "execution_count": null,
      "outputs": []
    },
    {
      "cell_type": "code",
      "source": [
        "square_sum2(5)"
      ],
      "metadata": {
        "colab": {
          "base_uri": "https://localhost:8080/"
        },
        "id": "9u4HbPcfWeTt",
        "outputId": "a522c4d5-6d07-4d5d-a8f2-a8334059e011"
      },
      "execution_count": null,
      "outputs": [
        {
          "output_type": "execute_result",
          "data": {
            "text/plain": [
              "55.0"
            ]
          },
          "metadata": {},
          "execution_count": 18
        }
      ]
    },
    {
      "cell_type": "markdown",
      "source": [
        "## Big-O Notation"
      ],
      "metadata": {
        "id": "iesHnZ0-b_If"
      }
    },
    {
      "cell_type": "code",
      "source": [
        "a = [2,3,4]\n",
        "b = [3,2,4]\n",
        "c = [3,4,2]"
      ],
      "metadata": {
        "id": "ROhXZQjtbxzP"
      },
      "execution_count": 47,
      "outputs": []
    },
    {
      "cell_type": "markdown",
      "source": [
        "![rQb83JE8O_rv33x39mn_kLEDJvynWbgiXlclw8szS3o.webp](data:image/webp;base64,UklGRnQnAABXRUJQVlA4IGgnAAAQwQCdASqAAnwBPlEkj0YjoiEhI7FayHAKCWdu9igapn+ZOoDjPYhrctW0YuvzwQzdfZXzD6L/Rf3L0uLX+u/rm/u+pDsfzMOav+x943y6/yP/X/vvuo/Mv+7/PT6A/1k8Wb3e/3j/feoH+df3//z/4z3qf9/+x3ut/xH+x9gT++f5r/3eup7E37p+wX+13q//9D9uvhW/rn+8/az4Iv2M//vZp9Mf2B/t/bB/gvE/8d+lfvf9m/cT++85vrH/iehH8n+1v5v+xefP+8/v3jb8WP8L++ewF+Q/yX/E/mB/ffVF2xYAPyv+of53/AflD8bPw//K9Ev43/E/6n3AP1d/zf9p86rwU/QPYA/pf9j/3v+h/JX5JP+3/c+iH6j/7n+n+A7+b/2f/of4ntlekeSPgzkSgNQ9DydlNTbEag2LxGptiNQbF4jU2xGoNi8RqbYiOL3NzjKezEy4tsVpBRDj/qJMKam2I1BsXiNTbEag2LxGptiNQbF4jU2wnm2aT8Ljl0q57w3FTXRehT2bXsbB5tPwMwebT8DMDYTN54Ver5AHRanuEVZoF9exsHm0/AzB5tPwMwdxDC4uASGBxvGXoRqElZxiyMa1rUa6Ovyvb8zYE9eM4oMF/0Keza9jYPNp+BmDzZgaDsoJ8HmyFnmBn1hWcUJehT2bXsbB5tPwMwRx9ZV+y8Za+TxTIG313q7imDgUTUix0dpT7HFQDpWsQY85unWU6jbBl2oLRBEeucJAHRehT2bXsW0GWtA82vY4p/52Dz8FFgtF1g8cjviv8hs26DzafgZg82YGg7KCfB5tPwMwebT8eOEBlt37Yz3L31HwebT8DMEcfWVfsvFqHFwJjZ5tPwMwebT7Rq7j0MzsR7P0JgjeMwebTg+1S9Oc8yDAJONO3xUCuG8VhabZYYAYX2FAu1gXhOnI5VHu6TGro59m17GwuzXPoM1uPUTafgZg7iGFzT7XoHEFVTiwqXG+NnEcrWXrN5vasHPWBAytifqa+Ncd6QhpGyG1H+R7XtkAdF6FDYfFTf5K6MXgrhrp98iH+DA4uhCIb+uLror0NTE3fKJiVH/s91ToLYfxTljYSF242d9snsa2JAHReQ0DUuR1zzjo6CNbLyAKoVaExfnAPluMJ6smCXKi8Ia2STHr//+GP/QLrxmDzfDCbCYZTtmYPNpwfapenOdk9h5KtUHYD4EvHg/mfejf5sBxR296mgw/I9n+Lffa6lWwebT8C0UNDhZKJ4OIGYI4+sq/ZdzMNx+lyZ+F+nu+ExNTaqkmVW6GazEI8BibmMj//4s4/9acxZ72aP2/OBZuu+0a3pIGKy1T8CvOGTLDm9Cnsy9Vc/70fQp//DjV3a41EX7l72wFl3Zx9JfLYRksCk9ntBP//ZPOOscxrQaYfMnonvu1bSk/JSrem17Gwdfuw2BlbP7GwdxDC5p9r0DvuoRsRD/5rbXu8NNvWcD3n/6itswtr45b95vFvn4KI0g+mViyOIGYPNpnpZft6mizjAvT6hHv6JUewnNpR6i9dzd7qVx0HZQT4Ouqxu6Vkjt2sVCMRHCnEv8tNn4dr6Oq//xohxfdBcYlYXBtUJq21cNfw9JczrqPzDD2Jc0jxWBiuZs9xG9ehT1g2SSivqKCVb+7XlZFSOo5hUYrKYZY+JC6cbthwG8oCjhvqMd6x2MvyJBgWemaf+qe2+FA4Iw9OW+x0pMzyOYkK2RhAE/m/nmH7zy0Kpm+FpBaJpJLSlDAN4zA8LOnlqamok7EYKYPYhAt2wBd91ugMbp5Qbyrw3TjQ074o/s38ndMQaxIISEclcmPzGsYD9Cnsx0y1cZbJEf/6PiLgy5g88IkygBsjxV4U1NsRqDTSFVygGptiNQbF4jU2xGOVy8RnvTUX+ouR5xKaIlL1HJUdSsx4fqqsyrO2svYfBxlFXiwgZ/tb40AghAz/a3xnTCi1Pta1IQ1d/eflN/C1fKBIeUeeLJ2HwcZRV4sIGf7W+NAIIQM/6dfhGoNi8RWlnghZtT5kQKcXBo1MrsDop87qbAQAy4EAMuBADLgQAy4EAMuAfbwKGs4AAD+/IuqaEruYyb+R1+0XSY+mmI8BbWhlHvcYAwn8OQJpS7dZx9Xnps2sMJE8C1Y00/o+d8zugL4P6l3Cc3G8ZGWSus5V3owC6HIZNtjWJtE06oneV8AAE0A2WAwUvSzZj23y2Ze7RVDpLpjcapnxSUP+8XmIYjeKBOuFcVpZoVY39hgDLYnwAAhS5RCWh3XSXB1sodOmaB3yGAQ73aGt4EEn5AaX8lvU7iMC5vj7vgt6qRX17KmWbEIbI4ituGBqly/leqTAC/HEHlPX8ylr3dabH76YexXidUCpAoEUn1+SlT/qaa3qketQlSsjS7Lzpq/RAWt49zxeGb8ZnaTKh6Tjv8F76WzDc6zOsbe1hvGwA57Qq/MR8g6h5EKLXjZHy/z8LitSjalRH4jMGOgOJdeMRX5htt0icmT/9fVs/YDcnT/1JcLAvLbGHqfE8eZc/ylvC0bQT1RaEi7h/nFLSlRz/Gjg7qR3j2SatzBIEtbEmjhast32OzU/gea3KVh7nb/M8BkfI2ths9C98n49Tg9rRVKIWYc0wWQOfrYLCUCYM3HA3qbg5130q6QdxTEgkT9O80q753Jo5ddLObLC3y4+fO1Tkn35dilSc3n6KMoKy6QFqpgkZjH6TgATrOJm/6cNhvBHOCkGp5hj3amV9qSffqT+tDzOtQt8ZszB1d/MkXbHyZxYMX+UzumwSMxTvsOHbLAAU9soI3my9FPzGS74Lg6YGoPI5RPeGNrrXwgtAJWazG5ll/OLHceJlDzKp080sdlR9BEkXAEfX5pp/2TfOJw0DXFLv2ExE0Zojk2TFGGLinMu8DhtFh4ZAMjkcRJp2coEe5Riuvf/4XsSUt8SN3INW2NUOhywzH5KH72VZoD094u+AdAHc9sk56elJbJ9AsibcT+A6nt4tx47XfdI6vEhFfjLBm8nb5OhKhxzXuT+wMhaFgokNBJ54QQhqQkMcbDCZTcb1Sm7EyRt1ZgeY0oycivBMr+GEHXRhEadBlAIA1kctvPD7/n5L5pOxgBFC26Qw2fbdMG/WoYbWiWE37s8CNEMko6/DW5Tgy3OsQ3te47ZTuzm9ugZ0moIpVs+hQteDbRvj7oNeYKRt1t7OtgAOd+4DJpJU+NjreBbPF0PIpmejkfnX4VzJwb33PXguS4hJNtCizlYyEsz6FyLV5M/1n4RDkfdEptdCl/Wsqh8pI2PD2Kf46u4H3BGPefrFpm6W1Sub0HGVmpS9T88cnNyG4UIann+Pok5ISQ/XvoSsulJOcx/36JAxel/7I07QsJfT3QA/gAAAbQgsvcntccbypLhpOEZEG52774RIexYUkOxPmsv2wSyDeRfPuXZtQQppnPex+HthVTtjLTNObRNtpn5Dt5/40vftO6kVZ+UJ/xAiLQv1p+RoAoJmFZbQOR8MGOGeBotVvBfU4FGxpbo8IpgPj37wjOOSlfJ2R7HoOtKqYRHY9IYDMJjSkXG2MZtXgDSSAbYJ1ABiiJ+iqAFeAxzIymjm/lbp3+ybKKGbafCWua1pOIDkhGNq87ZhWejuyoeNbVovulTWFEr3rLHz9A3LZDwReZkSKQVkEL/QfsFgpvcmhzZzQiAffzllVQ3AmbNMEzGTcwiu7QkCJvOlxhNJyT0w43+GNwR+vsz47S37/EpvSRcSDiuYFpa/HEjPR964jnECdZyB6uXsYqKn6yIyVt7VYQmpJIgNyKzEy6+FS3VeMKWZ9aF3jFdZADajMHc+5ATGnNm8+3FhTYwa/9DKDD/85rBkwTOLq0EZhCy8q/X/vyAerqkq/oZT7L8L5lAXL5irKbKmCj1LYgCN5Rupk2/85PzzQZhOqPGGVfgif5Rxgwduhn7rwLT3YHKPo9EP6DQv3fALKOWsknZt1kExPBjdv3sjY344tLgVg82/tYXALScevziOUGh7r9ks3jd73pVr074e7jwwBwXab3xlfqANwVS7EnRdFX4ZP/kFdjBrqFAGg03wQkHSd8PNOVIO/V2cZ1NvE1okQl/p/dBPNbthhR4Pshoe897gVDHLB645f0/F98TVsiP4AIM+hvj2JHtJ0ClaJAp+BZI+wYR1ZdUWVp7l4j81qtKAPK30uZoe9zQv4y78B/IfH2gYo3zMmwndFBQab9EGa3JNcY99eKSQGodikdCAJ0PfXusvwzqCCjJUViZalNqg2oP279a+QBQYCBIT+xNY/WrFp7Rz+Fi8Ed5Ol9TuA0IP2C1X/TTzZnMow5PUbQP9rWw5HHtiYP9g4zVe51B/xanJ1rdn8buDaoxODH98PmJ5uo/Wx/R6/nH9av/DU9md97xVkqrxgeM2suZPO0sVk+HFton1e0ICZSCraVqoWXkk6eBbOvpldvhURonUMCrS5hA9jtUB4SBGdGKTdKVI2JP9piTo60BTiVfh6pWJnZ3HHN8OKXPe6dGbCkvI1vFrWBdJ2YGOdCApWM1O4ukKKZoQbcg3ahPsEfW0hO63SXraYKzjXcXmLwVocnUrxntDkzUXYaLxKfD1BnCHzH2TnPdHlD/OgfHz0CDHj5aFO0cQOIQPKsYM1+Die6XkIPeijmtn9oJiPIHmheFqJbKOR4Z0H77MwKaEb7/CJ1HG/1cDVy++9c1FuM3tI7nfpUfTqPcU1SOvOT3IAipxtQ/YFQjxEfuYJ1ESRhT1ctWvpORCGGUZ6eeDh5lYu8hCy4KZ1Pv9kwep9iWp02s03jKNEoAHLI/+0xcQNBwG9P0eelu/6avUjtHndzIsDRp3G4o51Mm4o4d+Tfw0yF4dOSE38+QLpLDfQK3+RiwnAOemadhwdoJLHTdiY/nkB3tI+3dm9kUemY/mTwx/lP+iFPXnXUEBNnpeOuNaiogAfPOi/MAPllsRMZ7e6/8ffKOFux7qTysHdFfmxxNK/9qxkv19D8dLO+TPXrJY0KlYE3WpkNaORmm+u87HniaEyUHCwYuR9duckUJvXxrFySy3DVPRJhchxylAPWHkQBbeuoLT0HQ+QM7YKHg93CnVvvfhvxkwIYPGYnUaz0XoJMqiHATXtLaZL6Iz4SSP8xjxmMBXmhAmdBHWbnfETDg4tZCAAe9vCfH4ivJ+kdBet7c/4fpA+nLmrsnOS3bf9o4S8FQj+87XN3Q8dX0BrAA7G8SQVoDpebkGMyjfnsRB+YfKvqQtJTgA9Ts07Q+kPstFQtJdvNxcUwFRy2Ea7olKKDBa40PnxVtzmNg8B54w1yDfdx+Nj8G9WtwEn4+SP6MYex5/2XHM5iHTNzyya1+2zeyMKnXwoJRt8rvR9Hu7FZYAYYDRM0VSVjLDSaKNtDJce4Xt2ECMvmLtf6IfXk2ifpFFKcPMR066hKhxN0YdxKoVjjSQb4LhCgeEB9WFdAwOfn+SpSHivXB2tTk4VWO3/3m6YDIFphmyToN0Jk0pTziGXzbKU9bR5i7zOh/cD5w7cO4Aq+4i5Wlja2E2rZ+RIyYKxcuo8ibbg1ZXpdH2/ZZwAv3kSubNG3hfd76A8E2S5g3E3kZeEKbSD9GvHSvO1LIAt6TKmpR5/21MG0x9VxYYccR0I42YkfC/7rPXBObeHtQAkMJwBPzkP6t9O7Do/MT8QDnwHOCbG3O+oK5USTJy1xmHjWTSDWqvMwKN+KJKGA77lMtPzurpU4myf5zmD9AWdnaRGRBABpeZMztSbp0CjImNVFksi3QtE3Tl5IdwMpowyYshEHguISyUmOp4h8Yw/Pj3bh1x8bYDzzVZnWeVCBvYgPH6T2Lms/M2K8NwTgZTziROFCznqb5Hs2IuBMlNLEwrrLNZ+CU6Vy+yr7AHGXwRAZgZMDOtCTSAvinIO1h12UEoY8LI8mBttjutdiJgtLEbnJKvpy7WLCHemEIMJefeBv/iBMDYo/ZaAToLf7KmSJg5WB03V/XHCFh348RnohgOIw3Trk87dGp4a2iP3hLvmgzEK8RBPrZorhVHtKa/yVYNOCVNyzbgNTVum2JvrPQmjU5ulUAZ0FyOTfy8q6CDvF207X3dExodkH5ztdUkiECUT18wQFthbVqDyb+MGBHQgGHiW86OdfvCPJGoX8fw3TT7CbL7XlW2+cccM5SEnxd2SP+4crEI7xeZ6lJazjF5wFZeZpH8kJd7Rg2pVGExpnvv+CgMEtvHBpHTWPlt92wX70i3JRxLZi1FpDXn5c9XbW0L2J04lEw0mCRJH0Hu2qbi64RX1ygEqJJVGMQ7tcuXZnvoAEv6kVOiTu4V980m1399Fgnuai4WWA9s/GGdwBlTyimyTfMwQVAMVToIzqU3CWzsVXD2TCUTpF3vP3tH1uyhdLat2nPuo7Hz6rwAyo6wUaffJe2di6pmwrjV7pujDo1sT+I6mdwz9CY1tCpDyMvGyoirpFL0wNpx35+H1TlxFimMVFTVJytFPuiwByW7u1ZouMIwIHmRNUMuYvrQ0839okbpNtHJl7paWtC6eCBW0sMUlaKg7uQCxX5r0Rcpso/yYTnw7S6JDX/LYtmMMwj2hZx/kzdlB2Xgl5PyqTNRnup8Nc/SshDrUtMLdnoNJ+Q0mYhsP3YnJRTcBFYBN8A/hqTpvaGJCK5igP0Q4JYnxs8yT6biQnKuqGsVoC4WN+9yu7wiI4llrf+H3vDY5w3kpmItmP86dP0skYSpxia0DggNg4Fv5OwR2pqA831xd+zXR0N+zNOJpyBGPkaf8r/rtbH6ZhBdI87HLECkAQfmEm3LqBWJ7HGoAZTo9tN/Rh0rDAqapiMVelHCnwqILEcDm5Nzc8zw6qVQs+ncLyxjov25zyXyVm2uoWQ7Djm7q4KkfwtHWuYysBriEYyfJvRRYwg+/3Q5byX92C0SXM0JOdBIfZ9iCV2q01yaEGLW28gl6pldcTnJggnr3rmBCyoOM33atU5bcRkKzAmxjL+DT5/hUQEzY1AwvF1Coiytm4ePWCjcsrP91lNEtMjpMvgTOxjBaewym9WCxvdp0WxLxdGH/RlkQwxFmQ9VgNSWzL5HgEPe+W74ltwuRCtsOgBll7B/MEZnHRYzmLWIJ3mcgWV0gVvWD7kaY7KhcjCHksU5Akmx6bO+TukBGABcn6uSvkUVExSdNGpy/k44uyyuP5i/tSJMV6fyIrnqaGZsKs9cGG/Q2xRN28I88X16pJyfhdxiYkJYNHs+gWlY2AFZPflaQpFPDBBZuflzHGfjwlYXQJo/A43uOkQS2YBN+mEAw18tavCsmy7SqNXOQgYXcFm7gnZRKfaR5Cg0gR+og9TqPNPttkOWdHvjKrXlmCImimh6QmsM7oiNb2lKVv9OyyUKRk25+xZLFuBouEtS5Li05C3xlAxS26hOfZ3GZzBA8rYQ0ih91rJUUzcw9NfDp4iewipf5vl0b4yyv14KBWHiKCEb3MiJaBXcnFjySTp7NISsVbsGvbTbZEqevKEgvAsnU6/lXvkOdJu1nTTLko3chRq6LKq0XcYzi/NEcJ8fUu2I4aP33txDjMAOdX2DIQPtAZGZhpCizOxteBQRNb0WUMfRkKzD512AEEnWn/UgDH3mSsBSPXzcYlRbCUnkpHz76hKGf/d77JgzMmVLYo+cf3Hs/rptDw6B9B8MNa4huYUyOknn4hl3IwHtaXs7RGLCCnJoEyTM9HcRH8KdJyNxY3cVpBUtQtvOKriSw5SAzwOzhnowPGUi0vMS1RBGj8BGiTzGvWBHHe0i0YSkN76mQ4HDJxH8KXpwVXaFaEXJjWzq77c36EPcHRoKFP2EpwjL4tETRtjp81J5h5kYLgvzRWsV9AV6KlkVfsirPKGoI4Rz5zGLpudCAD0RRoaviOoJqZIPX0JGiH6kq/hyOha4Lk04D+dobp+FrDT6AoLRH2OKL19Fbp/hOqARwbfjE2PTfWpiyDJFWmNwWAwUbkON4pgZKH46iDCSNwKF/yP3VSni60UmS+GjTWK3jF3xg1zvTBOaxmkH1TAchjeoPdpfZMcBQ86F4J+PZZR9+4HFOtYSxeHUt6azOah5gCfps4TwopVh4xJ7zCuVESJVA+ePoYm1fdes+uA3uvLHnDv+I5EgAoZAqlHjcPwitOWRQlhUMiISQPa8HzYipWJfFfCVBumPUXzeWZ60i7nM/YjNjn+4CtV+y2K/V7QLtcJ48KUoIigJz7jt8CS2rOj1qPhlT4Ko8ZtEB7NL8t7rlFM80C3MFtw3VtpcXGNsOZL0nwri+0YmAb5SL9zqzqIvKeHatEtBcau20IfYiPB8BG9O31CCsX+r25Lu1UEX0Xd/Q20PKpLsfv3qXxJ8Qit86x2pW+/wl0H4KmCD9sdHAwsyF756T/+FH/qwVttmJChCmJ05Mwboz0s5HNpv4gQUtYei7nT44fLpautSiclSlIWXUcUGshGnHrrF8iecNLAKqmw926R49o5PI6WpN4j/HL6Nvlp/eAUhhclx0MaiB56q4xxnUnm8N/f2dW3p2OwIPYeGJ9WXt0cQlrZ1iYLcTnzpJEuYqN/YeHyIOnywL105nRkqkrxHz4uMN38vu1FEOBXv38PoUhUy2YkpM8Jo5vwjRn2b1TgZtJY+C7PRDaPPmw/M422Pq9qauF/6uCMBuvULPFgTqtTUwBm92i3ljtcI6rjIY6M8ggQp6T5cBb5huZR+d+DsCWnF17qzlCA3ev/SJhAGwlFsQ00ZbsgDRlOJ59N8+CmLEmB/M83Ic7JQ9ucTDBa2oaZ3ZZVRIwUPvbymSXxBnMfOBO6zFOzxLgnBPUa9EoZd1Cf97Xore2GWYKjNGL9qTxSbGQYaGWU806L/OUMPJcOhOk5or09FxCBDWAWy2fFoGS8Hk8pNdGd5DLjOombVBTpe2xQXzyjOgIigm48Ki7952CnQtfcrh/ToISnmU9uWuun8AQ/WaTpHLo0FBvMddH3p5syOG+SRv7HJ5Jh/ThTFnCvCTUVSzl1dqzBloYNb0ulaH+5x5TWAnBLJCgPKnvLmNEpuC562+TVCxrB87zhmDzgvU+5oFtOfl+mhwFIDeKpF+1KJhy8lNheZtZPLpr/oG1qLq+5huEnVLZ1aRSCG7fYIb8MKAuiG3iVLqIy7rkQ9VeqEOIVRvKdKCCxvaxzs3py6UejFw9H6yn16+W6aH527E1KcXJrtei0lIXhqQmZfyqjtdaCPdAIDCvmk7GTmLFI6CYrNV0KIpS2jVE/SKAFwJ03xDqrK9x9jFOfPbEUjTGdeCk3D/2PsbFmOywG+2J/i1fcMx9bCJgepH0kHca4FZIyUEnbxMGd/Zm/rqRkzQ2gBgaSHZUib8YKAvNSS7A4vjPPfZQR+QDNHXKtgro4R3tuNNSg5VabSbvPV1+uIOymERsIXYr2NQ1+eN7P+kI1vlf2yrUy7GZqeDBipW4mGDCTCdQB9zZa7KDH1rfHmXdqaxZhYImH0nWv+Y4/j7BQ73oc4DO1iM++bEpBYrGUVaYX8zUBMu/vfFr/pFxPCTYv3tnuWkPmhyEVAjAHq9cNBIOfy5Tu99t/iSqBESA5SFYgoQMO6MtBQnyPZpmYg0pPBQENr9Ozy+Xw7FhM90xO54ii1B7P9ns0Z5JTWnVA7y4CDB0uLwHxWzvq0ZRqL1GA8nwggWSF2GYp8IVTykd7l0rLZNTkPK97eQTpNW2tJz0FqBFTyhBeXj2ZV36b7dUdDtBWKzothB82g7YsJZJuVeVCCujWJBM9aEk2aPKMP3GPbkXEmL2bwP9pqlIHyO+pNs1/Q+WozwVQy4SLn9hiCWzwpOE37BlIGdSZN1LzBCtRJh66KodruCdDyl3OuwDNkM9KmQxX9g7y1QltVk0scPTMmgsY/5aLPVRy9hFYrGETdigAAAjp1v9Nw2TDSpkxXyeZO1tDjoryvINHUbJB5aDp11ujdxt7anpL0xVF8qPk3/cbfdIJJ4rR4MS3jixTaS7kusMzJCHHftivcKNlGLcXOsSCqyrigFZrHSHr7IIIHck/x72ey4GtaO1w36W4LqH0cOFxxmmPhg6U0EPwCUyClbkkxJnrtRS/ZndyPCaR5mt6n+n4/IdR+YqjIKP0oSY6chlMVULWcIRRGOEC662PTb5Z08OaA2/l3DHrwEyImIWoZfTaqpJlwpcIkA/rzwciml+bEVqeroYJ7A+1JK5KRfB35V/rbAxAz8bQKQGgpD1R8Pt6io6iUVf//lURphw0scwWfj5pNEEqpfHNFnTdIIaheAk5MxbtWxYRgvo9sQ2sK44sVMuM5iE/veGiaz/dfgR9tf2LHp2GfJ8Tyb/oize+4bvvXqu4Wp5os/kroFuDeQsbwSvrHm3J9fYJqJULlQuBQzD6oSjvsj8Bk74Y/j4NH9HvMsZN5sur/QXbb4p9j66PHBdNqF5y73OByrbiDDLNL6J1Kk0GptiYbySvQDzsHPNGT0ZtxU4HLu3Mc3X2Phmx4LIfG9rEZh2fZu3GkXN7926kFuVhClbXOzeCaSmmbOeU3yQOtOnmehtOYou+O3Dy+Iwupn2hmt8gBPuUj/AQygR/lrFp+il269AfkdFkNULt5b/PfRX/V+Df8zPrinBbINTqqEifRAg8Tp3Qde5JP/LjKc5M3IdoOpZ5ye1Y1qWbxVifjF6TM690Hc5vebDMzsJDTprmGyfQxVCPVw+ir2w/kKgHCmleStWWyJ6mpc3EAiCznz94ocvVk7WI9fyhPrzPfEAprB20Duo95XZv+V1KesbpsiC0rk30sbaCyiph3C3G26X77PffJt8Kn21LVR6phJHPVLdq6Sw42G77swoYNohJqm174Fb6+hYwtwTrlfdgorhxXSyjZh3KrmWNfP57GKv7R+/ZrX3rgFBHUPiC7G+3H5a03iuAc+BG4YK/sJyJb15/G8lxihL+QbUbtrUe1/3MBBqW/eSqgzZXRyyiuoHkgMrkuVeeT8Fj8jvIUtsqLL+YQkU0yrjyIPELBcPaE/qowpTh5gcLfdGH8syyWs8ybVJZRLNll2hgWLxfMiVwheZ1iNZsDdlJtSOK2IwLdzpjH0hwAXyBKJGzx4ybTnHeNm/bMVGueFalR6dJif63qrLR3q3hITTNHLVQr9gyZYLqbWd/NzNUkUiY55iHjjPqmnCq2L1GIWhfNr1H7aRszDkF4y16wylgGirVsO6yW01RQLIiDHbRfTXSPG3g9UuRW+0558OWiE6QhPB/HP8IjcbF3nND+5hK/s2VZbQv7MZgWK39Ih8ubCtvMcb7vfh+BAYxX7PFafSN/9Mqm3o0+aait1n2/VFVDugqqhKLz51/c2HGy9LjIIXUTPHnMB4AsrqPSfAjv2vMFtNpRVQDXl3lIHGr5U3SE777NOk+VlOuOWFgvtYomcTXnOt9vJWvVdQhPZbx2BWIk4QfGO4/4bfw9dmhVoGxPghd4+SbqrR7kS1w7nlWtv4oV3SLZU1b6UlgiJCtSlaVDQ1XnHH3N8N+JBULmMH5u2Z8z357XQUFtap9TQ0MvLrVJgc54jaOVlNyn5M5MwFy+hm6H+CcDS3VzYI4lEHDkgWWG1dH9wTWh3MJuoJ9eVhsAuMFhVnrEOUabz4h+yfoy41bZMceBdCSrvpKw6OmugBUgzbCF8t2R09b2A6cE8KT1qEkjdu4SXJS5ApP7rQChjmDZhEBnuqLMCF6LNsWTErBzOfkTeEzvibnR2H/TuHOPzC7qQZLAgC4wvZJ62s6XxQ751lSv73ScyacsFHq8stmLSNIOm669kHeBuLN8sQH4H9v722/o3C79iOaH57hIRgzn/ZOulKj6Xtq5d9/yvsyPbSHJiAC3Ot2CCsEEbP9TPf7/nEP79CwVoIlU7/CWr9TM2blkzjnXZ71tQwsTsKP1pGOS026Fkv86hndNaAouO7IvH0rSyCRDq8L7inlm8LlPwy0KcEQTpad9L2bq5hGZbaw91eUVyypRMiwVwtoJyhm10FRsN24XwuBQaSBdGd+GR25Y1dJ0ZBocQqd5gNWQTfwjtv85QsnZtpjki8glklFCKCGR89ybwglKi2scppBr3JfNf+sJ7Pn8Gp/DWUUbTv3uvERyRO9Z0xW5zEudxaybsAp1t64HeuCYiEVb/8c3oPn+Y2EfTT6LZ1HIKQh2iVDT6utVXs9YU2FUuuunuq78Yn1ujaSxbQozFyf8O/a3GsJicsB52dGOJn2JB5Gd0y0ut4Jhs0V3vvrS7u2BMTkfXIWLCx1GQeSe4AqP8e5G8sf6o6IMF0hZ1zVDVwLgnWaPQq9cf78SPOQSZ6h6/B5tSWjMhtrPEkgwBaJK9eRq6psNdDC1L4ZfzAL95SBlM5pjUgbxcJ4p0o0PD/jTJPSD4S03IZLGdXAwEaHCTQmpkH4PwfhO4QfCzjBHen8UJHDTogB4oCUfP15G4NROyu48BkP1p3ycJ68Jdx4hPpbTNUhSHvz9F5zCKr+f04NWtQNYMIeLIYoCgI2EwdQAHoIjNLEGJhod4avlydqr6RGUI/SGeiOcU5jFukn/UnJxD/0IOcvodk9Iq6qBhk6OV6NDrQMLtCbG56xD6mM4oO2ROt8kjCLBJd4A6kcxSOyIduqs2SNVnHHJ19MnkTNf0wNLW0GlNGsAZ760YXJbNM+ovxaT6enae7KDzCOVs49FqHIOcdNFh8NIsHg+1l5c/xGClBPFV5waIlaIonbqbIvYU0nVglkuf0ALYurrNGwUb/jx8A3aTEP4+XBWd3ZlNstjya7un2noYJuAlF46V969yxhoMhUajIqcyNdJl4AQFMRJv8MGAAAC2vfYowkaYXTiqglr3EVqgk+VFuNJH7OPKDpstTA/tlF5YuPL1F9RX7gQs6mtFv+n/UlbH/Vh/8EVBso3oDmckBmSD2NN37Bu8kbNnOY4DCP+RVlOUz+QN9CPOBALGU4xdrXUvaBxrrCf5TY0isChLN1iPvBHw6fe/ZBSIndhdJn/BvWZpJZwdsNMRvZQJeCVKXsWoWwzYWth9ZR/IJ2u9RXsmthBv8efsOsCFJVU4FVovbJFdWoaTXdp4peCLMB/PKQMEu8uNeZzB+/A4o90OLSGtyrCLnLMC69Z5W0FQ8RRHUAvqpAv6NkMUWnlF+5+z/2d7g/rOv1CWkmRoXV3WjqnYoHandWyTLRxe50SsgEq4+2KMI3hs4tZHM71uxLm+MGPCD1sBADR3od4pfG/quRRN51f4yMV//D4EQQE1M62ISAinGIJHxObrAUO669GkOdWlbjuSKjXAQAFfLO/5jybB/K4v53YQ2oeWZ6zivXis6TnIphDaLeD8NJ4pU/6uudEQpZXucFfElNWvBMq83SOlmAIxnVlIAAAAAB6IrRuDH8BYZluXkueIVLQvJqT/IBrQN6rE3FvS+VoYfgniGK3D5ezhwgAAAAAAHb7f4kKONtu/fuL4odMDDQMzAdeNJ+Qe76XkmPOUXBIU4909KT5qqmuqunpSJh8TG9AAXhQAAAA==)\n",
        "\n",
        "https://www.reddit.com/r/compsci/comments/kyg6oy/big_o_notation_explained_as_easily_as_possible/"
      ],
      "metadata": {
        "id": "cfrQ_yrXhBCq"
      }
    },
    {
      "cell_type": "code",
      "source": [
        "# Constant O(1)\n",
        "def constant_bigo(list):\n",
        "  print(list[0])"
      ],
      "metadata": {
        "id": "tkGAzcsehmhQ"
      },
      "execution_count": 49,
      "outputs": []
    },
    {
      "cell_type": "code",
      "source": [
        "constant_bigo([1,2,3,4,5])"
      ],
      "metadata": {
        "colab": {
          "base_uri": "https://localhost:8080/"
        },
        "id": "KY-J3e4yinl8",
        "outputId": "28b910cf-d015-4851-965b-be253eddd9ab"
      },
      "execution_count": 50,
      "outputs": [
        {
          "output_type": "stream",
          "name": "stdout",
          "text": [
            "1\n"
          ]
        }
      ]
    },
    {
      "cell_type": "code",
      "source": [
        "constant_bigo([10,2,3,4,5,8,9,7,6])"
      ],
      "metadata": {
        "colab": {
          "base_uri": "https://localhost:8080/"
        },
        "id": "hJeyC7mqitID",
        "outputId": "57fcba8f-7434-48a2-9523-a30cb8ed8145"
      },
      "execution_count": 51,
      "outputs": [
        {
          "output_type": "stream",
          "name": "stdout",
          "text": [
            "10\n"
          ]
        }
      ]
    },
    {
      "cell_type": "code",
      "source": [
        "# Linear O(n)\n",
        "\n",
        "def linear_big_o(list):\n",
        "  for i in list:\n",
        "    print(i)"
      ],
      "metadata": {
        "id": "DyRoTLLMjOlz"
      },
      "execution_count": 52,
      "outputs": []
    },
    {
      "cell_type": "code",
      "source": [
        "linear_big_o([1,2,3,4])"
      ],
      "metadata": {
        "colab": {
          "base_uri": "https://localhost:8080/"
        },
        "id": "T1SstIWGjqfo",
        "outputId": "64162531-1567-4ff4-fa59-a5d98b27e7e6"
      },
      "execution_count": 53,
      "outputs": [
        {
          "output_type": "stream",
          "name": "stdout",
          "text": [
            "1\n",
            "2\n",
            "3\n",
            "4\n"
          ]
        }
      ]
    },
    {
      "cell_type": "code",
      "source": [
        "# Cubic O(n^3)\n",
        "def cubic_big_o(list):\n",
        "  for i in list:\n",
        "    for j in list:\n",
        "      for k in list:\n",
        "        print(i,j,k)"
      ],
      "metadata": {
        "id": "gkfgsZJqkXpQ"
      },
      "execution_count": 55,
      "outputs": []
    },
    {
      "cell_type": "code",
      "source": [
        "cubic_big_o([1,2,3,4])"
      ],
      "metadata": {
        "colab": {
          "base_uri": "https://localhost:8080/"
        },
        "id": "9iY_zeznk1Oa",
        "outputId": "1c49e67c-9471-4121-d250-0e290e7365fa"
      },
      "execution_count": 57,
      "outputs": [
        {
          "output_type": "stream",
          "name": "stdout",
          "text": [
            "1 1 1\n",
            "1 1 2\n",
            "1 1 3\n",
            "1 1 4\n",
            "1 2 1\n",
            "1 2 2\n",
            "1 2 3\n",
            "1 2 4\n",
            "1 3 1\n",
            "1 3 2\n",
            "1 3 3\n",
            "1 3 4\n",
            "1 4 1\n",
            "1 4 2\n",
            "1 4 3\n",
            "1 4 4\n",
            "2 1 1\n",
            "2 1 2\n",
            "2 1 3\n",
            "2 1 4\n",
            "2 2 1\n",
            "2 2 2\n",
            "2 2 3\n",
            "2 2 4\n",
            "2 3 1\n",
            "2 3 2\n",
            "2 3 3\n",
            "2 3 4\n",
            "2 4 1\n",
            "2 4 2\n",
            "2 4 3\n",
            "2 4 4\n",
            "3 1 1\n",
            "3 1 2\n",
            "3 1 3\n",
            "3 1 4\n",
            "3 2 1\n",
            "3 2 2\n",
            "3 2 3\n",
            "3 2 4\n",
            "3 3 1\n",
            "3 3 2\n",
            "3 3 3\n",
            "3 3 4\n",
            "3 4 1\n",
            "3 4 2\n",
            "3 4 3\n",
            "3 4 4\n",
            "4 1 1\n",
            "4 1 2\n",
            "4 1 3\n",
            "4 1 4\n",
            "4 2 1\n",
            "4 2 2\n",
            "4 2 3\n",
            "4 2 4\n",
            "4 3 1\n",
            "4 3 2\n",
            "4 3 3\n",
            "4 3 4\n",
            "4 4 1\n",
            "4 4 2\n",
            "4 4 3\n",
            "4 4 4\n"
          ]
        }
      ]
    },
    {
      "cell_type": "code",
      "source": [
        "# Calculating Scale of Big-O\n",
        "# Insignificant constant value\n",
        "# O(n) -> linear\n",
        "# O(n) -> linear"
      ],
      "metadata": {
        "id": "iupL_6OFk85V"
      },
      "execution_count": 58,
      "outputs": []
    },
    {
      "cell_type": "code",
      "source": [
        "def linear_big_o(list):\n",
        "  for i in list:\n",
        "    print(i)"
      ],
      "metadata": {
        "id": "O5A4KN4-mzep"
      },
      "execution_count": 59,
      "outputs": []
    },
    {
      "cell_type": "code",
      "source": [
        "linear_big_o([1,3])"
      ],
      "metadata": {
        "colab": {
          "base_uri": "https://localhost:8080/"
        },
        "id": "4ujYgh1Gm_qH",
        "outputId": "b8925d5c-03c1-4793-f965-951bffeb445c"
      },
      "execution_count": 60,
      "outputs": [
        {
          "output_type": "stream",
          "name": "stdout",
          "text": [
            "1\n",
            "3\n"
          ]
        }
      ]
    },
    {
      "cell_type": "code",
      "source": [
        "def linear_big_o(list):\n",
        "  for i in list:\n",
        "    print(i)\n",
        "  for i in list:\n",
        "    print(i)"
      ],
      "metadata": {
        "id": "ta55D27KnJIp"
      },
      "execution_count": 61,
      "outputs": []
    },
    {
      "cell_type": "code",
      "source": [
        "linear_big_o([1,3])"
      ],
      "metadata": {
        "id": "fb7l3JhunRXV"
      },
      "execution_count": null,
      "outputs": []
    }
  ]
}