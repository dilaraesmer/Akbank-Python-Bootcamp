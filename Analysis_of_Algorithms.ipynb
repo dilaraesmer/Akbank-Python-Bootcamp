{
  "nbformat": 4,
  "nbformat_minor": 0,
  "metadata": {
    "colab": {
      "provenance": [],
      "authorship_tag": "ABX9TyMJk28JZPMAi+0sd5guMvid",
      "include_colab_link": true
    },
    "kernelspec": {
      "name": "python3",
      "display_name": "Python 3"
    },
    "language_info": {
      "name": "python"
    }
  },
  "cells": [
    {
      "cell_type": "markdown",
      "metadata": {
        "id": "view-in-github",
        "colab_type": "text"
      },
      "source": [
        "<a href=\"https://colab.research.google.com/github/dilaraesmer/Akbank-Python-Bootcamp/blob/main/Analysis_of_Algorithms.ipynb\" target=\"_parent\"><img src=\"https://colab.research.google.com/assets/colab-badge.svg\" alt=\"Open In Colab\"/></a>"
      ]
    },
    {
      "cell_type": "markdown",
      "source": [
        "Types of Algorithm Analysis:\n",
        "\n",
        "1-Best case \n",
        "\n",
        "2-Worst case\n",
        "\n",
        "3-Average case"
      ],
      "metadata": {
        "id": "c571mUkdvEv_"
      }
    },
    {
      "cell_type": "code",
      "execution_count": 1,
      "metadata": {
        "id": "t8M8y_28un5F",
        "colab": {
          "base_uri": "https://localhost:8080/"
        },
        "outputId": "8432271f-05ea-49f3-a87b-3d0e20db1e83"
      },
      "outputs": [
        {
          "output_type": "execute_result",
          "data": {
            "text/plain": [
              "tuple"
            ]
          },
          "metadata": {},
          "execution_count": 1
        }
      ],
      "source": [
        "# Tuple\n",
        "a = (1,2,3,4,4,4,4)\n",
        "type(a)"
      ]
    },
    {
      "cell_type": "code",
      "source": [
        "a.count(4)"
      ],
      "metadata": {
        "colab": {
          "base_uri": "https://localhost:8080/"
        },
        "id": "GlSxxx_MvfiD",
        "outputId": "2ffdccb8-e07d-4752-80dc-6bca477bad4b"
      },
      "execution_count": 3,
      "outputs": [
        {
          "output_type": "execute_result",
          "data": {
            "text/plain": [
              "4"
            ]
          },
          "metadata": {},
          "execution_count": 3
        }
      ]
    },
    {
      "cell_type": "code",
      "source": [
        "a.index(3)"
      ],
      "metadata": {
        "colab": {
          "base_uri": "https://localhost:8080/"
        },
        "id": "pu-xM8PrvpkX",
        "outputId": "50639dde-3a8a-4843-c4e4-181a84956dc6"
      },
      "execution_count": 4,
      "outputs": [
        {
          "output_type": "execute_result",
          "data": {
            "text/plain": [
              "2"
            ]
          },
          "metadata": {},
          "execution_count": 4
        }
      ]
    },
    {
      "cell_type": "code",
      "source": [
        "a = (1,2,3,4,5,6,7,8,9)\n",
        "a[4]"
      ],
      "metadata": {
        "colab": {
          "base_uri": "https://localhost:8080/"
        },
        "id": "pdsguyadvtly",
        "outputId": "60033fc0-90d7-4dc8-e770-71cf1cbe9792"
      },
      "execution_count": 6,
      "outputs": [
        {
          "output_type": "execute_result",
          "data": {
            "text/plain": [
              "5"
            ]
          },
          "metadata": {},
          "execution_count": 6
        }
      ]
    },
    {
      "cell_type": "code",
      "source": [
        "a[-2]"
      ],
      "metadata": {
        "colab": {
          "base_uri": "https://localhost:8080/"
        },
        "id": "KsD2L8G1xiEe",
        "outputId": "06d25350-1e0e-45c9-d889-2205e3e1888b"
      },
      "execution_count": 7,
      "outputs": [
        {
          "output_type": "execute_result",
          "data": {
            "text/plain": [
              "8"
            ]
          },
          "metadata": {},
          "execution_count": 7
        }
      ]
    },
    {
      "cell_type": "code",
      "source": [
        "list_exp = [1,2,3,4]\n",
        "list_exp[0] = 2"
      ],
      "metadata": {
        "id": "Y89z3wayx7Bo"
      },
      "execution_count": 9,
      "outputs": []
    },
    {
      "cell_type": "code",
      "source": [
        "list_exp"
      ],
      "metadata": {
        "id": "NpcU9aGDyLDC",
        "outputId": "fd8ad8a7-b161-44d1-a2ec-7cb836427463",
        "colab": {
          "base_uri": "https://localhost:8080/"
        }
      },
      "execution_count": 10,
      "outputs": [
        {
          "output_type": "execute_result",
          "data": {
            "text/plain": [
              "[2, 2, 3, 4]"
            ]
          },
          "metadata": {},
          "execution_count": 10
        }
      ]
    }
  ]
}