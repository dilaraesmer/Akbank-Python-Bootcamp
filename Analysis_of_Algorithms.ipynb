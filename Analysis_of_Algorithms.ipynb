{
  "nbformat": 4,
  "nbformat_minor": 0,
  "metadata": {
    "colab": {
      "provenance": [],
      "authorship_tag": "ABX9TyOAsb1dWam0yGPnkj50nmee",
      "include_colab_link": true
    },
    "kernelspec": {
      "name": "python3",
      "display_name": "Python 3"
    },
    "language_info": {
      "name": "python"
    }
  },
  "cells": [
    {
      "cell_type": "markdown",
      "metadata": {
        "id": "view-in-github",
        "colab_type": "text"
      },
      "source": [
        "<a href=\"https://colab.research.google.com/github/dilaraesmer/Akbank-Python-Bootcamp/blob/main/Analysis_of_Algorithms.ipynb\" target=\"_parent\"><img src=\"https://colab.research.google.com/assets/colab-badge.svg\" alt=\"Open In Colab\"/></a>"
      ]
    },
    {
      "cell_type": "markdown",
      "source": [
        "Types of Algorithm Analysis:\n",
        "\n",
        "1-Best case \n",
        "\n",
        "2-Worst case\n",
        "\n",
        "3-Average case"
      ],
      "metadata": {
        "id": "c571mUkdvEv_"
      }
    },
    {
      "cell_type": "code",
      "execution_count": 20,
      "metadata": {
        "id": "t8M8y_28un5F",
        "colab": {
          "base_uri": "https://localhost:8080/"
        },
        "outputId": "c1eb7b43-5b79-475f-83d7-dbc4b36ca63e"
      },
      "outputs": [
        {
          "output_type": "execute_result",
          "data": {
            "text/plain": [
              "tuple"
            ]
          },
          "metadata": {},
          "execution_count": 20
        }
      ],
      "source": [
        "# Tuple\n",
        "a = (1,2,3,4,4,4,4)\n",
        "type(a)"
      ]
    },
    {
      "cell_type": "code",
      "source": [
        "a.count(4)"
      ],
      "metadata": {
        "colab": {
          "base_uri": "https://localhost:8080/"
        },
        "id": "GlSxxx_MvfiD",
        "outputId": "36e9bc90-d842-4653-8bc5-e94722466ea9"
      },
      "execution_count": 21,
      "outputs": [
        {
          "output_type": "execute_result",
          "data": {
            "text/plain": [
              "4"
            ]
          },
          "metadata": {},
          "execution_count": 21
        }
      ]
    },
    {
      "cell_type": "code",
      "source": [
        "a.index(3)"
      ],
      "metadata": {
        "colab": {
          "base_uri": "https://localhost:8080/"
        },
        "id": "pu-xM8PrvpkX",
        "outputId": "ed0b7776-8d97-4ecc-d399-420eede241a3"
      },
      "execution_count": 22,
      "outputs": [
        {
          "output_type": "execute_result",
          "data": {
            "text/plain": [
              "2"
            ]
          },
          "metadata": {},
          "execution_count": 22
        }
      ]
    },
    {
      "cell_type": "code",
      "source": [
        "a = (1,2,3,4,5,6,7,8,9)\n",
        "a[4]"
      ],
      "metadata": {
        "colab": {
          "base_uri": "https://localhost:8080/"
        },
        "id": "pdsguyadvtly",
        "outputId": "23cbda48-52d1-4ce4-96a0-e4400513bd61"
      },
      "execution_count": 23,
      "outputs": [
        {
          "output_type": "execute_result",
          "data": {
            "text/plain": [
              "5"
            ]
          },
          "metadata": {},
          "execution_count": 23
        }
      ]
    },
    {
      "cell_type": "code",
      "source": [
        "a[-2]"
      ],
      "metadata": {
        "colab": {
          "base_uri": "https://localhost:8080/"
        },
        "id": "KsD2L8G1xiEe",
        "outputId": "c02c9de1-ef9d-4f9c-ec3e-eb18594e7540"
      },
      "execution_count": 24,
      "outputs": [
        {
          "output_type": "execute_result",
          "data": {
            "text/plain": [
              "8"
            ]
          },
          "metadata": {},
          "execution_count": 24
        }
      ]
    },
    {
      "cell_type": "code",
      "source": [
        "list_exp = [1,2,3,4]\n",
        "list_exp[0] = 2"
      ],
      "metadata": {
        "id": "Y89z3wayx7Bo"
      },
      "execution_count": null,
      "outputs": []
    },
    {
      "cell_type": "code",
      "source": [
        "list_exp"
      ],
      "metadata": {
        "colab": {
          "base_uri": "https://localhost:8080/"
        },
        "id": "NpcU9aGDyLDC",
        "outputId": "c031406b-d64a-4cee-f70f-efe5226489ae"
      },
      "execution_count": null,
      "outputs": [
        {
          "output_type": "execute_result",
          "data": {
            "text/plain": [
              "[2, 2, 3, 4]"
            ]
          },
          "metadata": {},
          "execution_count": 7
        }
      ]
    },
    {
      "cell_type": "code",
      "source": [
        "a"
      ],
      "metadata": {
        "colab": {
          "base_uri": "https://localhost:8080/"
        },
        "id": "NcUATXiQyfc9",
        "outputId": "2e04c48c-845d-43e3-b8a9-cdc7315d90bf"
      },
      "execution_count": null,
      "outputs": [
        {
          "output_type": "execute_result",
          "data": {
            "text/plain": [
              "(1, 2, 3, 4, 5, 6, 7, 8, 9)"
            ]
          },
          "metadata": {},
          "execution_count": 8
        }
      ]
    },
    {
      "cell_type": "code",
      "source": [
        "# ERROR \n",
        "# 'tuple' object does not support item assignment\n",
        "a[0] = 3"
      ],
      "metadata": {
        "id": "MR9NSBgkygoq"
      },
      "execution_count": 27,
      "outputs": []
    },
    {
      "cell_type": "code",
      "source": [
        "a = {\n",
        "    \"Python\" : 234,\n",
        "     \"C++\" : 89,\n",
        "     \"Java\" : 34\n",
        "}\n",
        "type(a)"
      ],
      "metadata": {
        "id": "gL9_OKSIy_kS",
        "colab": {
          "base_uri": "https://localhost:8080/"
        },
        "outputId": "58947423-cb0d-4bfd-c674-a19ab4d1f3c9"
      },
      "execution_count": 25,
      "outputs": [
        {
          "output_type": "execute_result",
          "data": {
            "text/plain": [
              "dict"
            ]
          },
          "metadata": {},
          "execution_count": 25
        }
      ]
    },
    {
      "cell_type": "code",
      "source": [
        "empty_dict = {}\n",
        "type(empty_dict)"
      ],
      "metadata": {
        "id": "r4hY1x2MzqZa",
        "colab": {
          "base_uri": "https://localhost:8080/"
        },
        "outputId": "454b9da9-2dbe-4b16-c4f3-5af4ffce6a06"
      },
      "execution_count": 26,
      "outputs": [
        {
          "output_type": "execute_result",
          "data": {
            "text/plain": [
              "dict"
            ]
          },
          "metadata": {},
          "execution_count": 26
        }
      ]
    },
    {
      "cell_type": "code",
      "source": [
        "a = {1,2,3,4}\n",
        "type(a)"
      ],
      "metadata": {
        "id": "wzXfGXcO0JfA",
        "colab": {
          "base_uri": "https://localhost:8080/"
        },
        "outputId": "f3f89c99-1e52-4e1b-ab26-84d71f1cf051"
      },
      "execution_count": 28,
      "outputs": [
        {
          "output_type": "execute_result",
          "data": {
            "text/plain": [
              "set"
            ]
          },
          "metadata": {},
          "execution_count": 28
        }
      ]
    },
    {
      "cell_type": "code",
      "source": [
        "empty_set = set()\n",
        "type(empty_set)"
      ],
      "metadata": {
        "id": "YLjY9Dny0Q3Q",
        "colab": {
          "base_uri": "https://localhost:8080/"
        },
        "outputId": "bb32f4d0-03ab-44ea-f4f6-29beddc9b7a0"
      },
      "execution_count": 29,
      "outputs": [
        {
          "output_type": "execute_result",
          "data": {
            "text/plain": [
              "set"
            ]
          },
          "metadata": {},
          "execution_count": 29
        }
      ]
    },
    {
      "cell_type": "code",
      "source": [
        "s2 = {1,2,3,4,5,5,5,5,6,7,8,8,9}\n",
        "s2"
      ],
      "metadata": {
        "id": "oLJ71ojC0f6H",
        "colab": {
          "base_uri": "https://localhost:8080/"
        },
        "outputId": "121aa6b1-8654-4ccd-df60-811ec8ea9285"
      },
      "execution_count": 30,
      "outputs": [
        {
          "output_type": "execute_result",
          "data": {
            "text/plain": [
              "{1, 2, 3, 4, 5, 6, 7, 8, 9}"
            ]
          },
          "metadata": {},
          "execution_count": 30
        }
      ]
    },
    {
      "cell_type": "code",
      "source": [
        "2 in s2"
      ],
      "metadata": {
        "id": "NOf0K0Wj0sag",
        "colab": {
          "base_uri": "https://localhost:8080/"
        },
        "outputId": "2afd0cd4-acf3-4256-9aa7-02cdb5baf08a"
      },
      "execution_count": 31,
      "outputs": [
        {
          "output_type": "execute_result",
          "data": {
            "text/plain": [
              "True"
            ]
          },
          "metadata": {},
          "execution_count": 31
        }
      ]
    },
    {
      "cell_type": "code",
      "source": [
        "tuple1 = (1,2,3,4,5)\n",
        "tuple1[0]"
      ],
      "metadata": {
        "id": "eTeMn1oC51rR",
        "colab": {
          "base_uri": "https://localhost:8080/"
        },
        "outputId": "cac141d3-f87d-4bd6-9d78-98122542d236"
      },
      "execution_count": 32,
      "outputs": [
        {
          "output_type": "execute_result",
          "data": {
            "text/plain": [
              "1"
            ]
          },
          "metadata": {},
          "execution_count": 32
        }
      ]
    },
    {
      "cell_type": "code",
      "source": [
        "# ERROR \n",
        "# 'type' object does not support item assignment\n",
        "tuple[5] = 0"
      ],
      "metadata": {
        "id": "NOxQaT03FSuN",
        "colab": {
          "base_uri": "https://localhost:8080/",
          "height": 200
        },
        "outputId": "4aacdba8-554f-460e-9094-8a6cd59de9eb"
      },
      "execution_count": 33,
      "outputs": [
        {
          "output_type": "error",
          "ename": "TypeError",
          "evalue": "ignored",
          "traceback": [
            "\u001b[0;31m---------------------------------------------------------------------------\u001b[0m",
            "\u001b[0;31mTypeError\u001b[0m                                 Traceback (most recent call last)",
            "\u001b[0;32m<ipython-input-33-d78afb5f3079>\u001b[0m in \u001b[0;36m<module>\u001b[0;34m\u001b[0m\n\u001b[1;32m      1\u001b[0m \u001b[0;31m# ERROR\u001b[0m\u001b[0;34m\u001b[0m\u001b[0;34m\u001b[0m\u001b[0;34m\u001b[0m\u001b[0m\n\u001b[1;32m      2\u001b[0m \u001b[0;31m# 'type' object does not support item assignment\u001b[0m\u001b[0;34m\u001b[0m\u001b[0;34m\u001b[0m\u001b[0;34m\u001b[0m\u001b[0m\n\u001b[0;32m----> 3\u001b[0;31m \u001b[0mtuple\u001b[0m\u001b[0;34m[\u001b[0m\u001b[0;36m5\u001b[0m\u001b[0;34m]\u001b[0m \u001b[0;34m=\u001b[0m \u001b[0;36m0\u001b[0m\u001b[0;34m\u001b[0m\u001b[0;34m\u001b[0m\u001b[0m\n\u001b[0m",
            "\u001b[0;31mTypeError\u001b[0m: 'type' object does not support item assignment"
          ]
        }
      ]
    },
    {
      "cell_type": "code",
      "source": [
        "# ERROR\n",
        "# 'set' object does not support item assignment\n",
        "s2[5] = 132"
      ],
      "metadata": {
        "id": "8XSEZJLFF_oy",
        "colab": {
          "base_uri": "https://localhost:8080/",
          "height": 200
        },
        "outputId": "a87e720a-10c9-4984-8311-e1b9e0a63102"
      },
      "execution_count": 34,
      "outputs": [
        {
          "output_type": "error",
          "ename": "TypeError",
          "evalue": "ignored",
          "traceback": [
            "\u001b[0;31m---------------------------------------------------------------------------\u001b[0m",
            "\u001b[0;31mTypeError\u001b[0m                                 Traceback (most recent call last)",
            "\u001b[0;32m<ipython-input-34-89a4122a3d91>\u001b[0m in \u001b[0;36m<module>\u001b[0;34m\u001b[0m\n\u001b[1;32m      1\u001b[0m \u001b[0;31m# ERROR\u001b[0m\u001b[0;34m\u001b[0m\u001b[0;34m\u001b[0m\u001b[0;34m\u001b[0m\u001b[0m\n\u001b[1;32m      2\u001b[0m \u001b[0;31m# 'set' object does not support item assignment\u001b[0m\u001b[0;34m\u001b[0m\u001b[0;34m\u001b[0m\u001b[0;34m\u001b[0m\u001b[0m\n\u001b[0;32m----> 3\u001b[0;31m \u001b[0ms2\u001b[0m\u001b[0;34m[\u001b[0m\u001b[0;36m5\u001b[0m\u001b[0;34m]\u001b[0m \u001b[0;34m=\u001b[0m \u001b[0;36m132\u001b[0m\u001b[0;34m\u001b[0m\u001b[0;34m\u001b[0m\u001b[0m\n\u001b[0m",
            "\u001b[0;31mTypeError\u001b[0m: 'set' object does not support item assignment"
          ]
        }
      ]
    },
    {
      "cell_type": "code",
      "source": [
        "s2.add('de')\n",
        "s2"
      ],
      "metadata": {
        "id": "vP24PGdSGFT2",
        "colab": {
          "base_uri": "https://localhost:8080/"
        },
        "outputId": "3ea34bb2-164f-42fb-82e7-4875e4003271"
      },
      "execution_count": 35,
      "outputs": [
        {
          "output_type": "execute_result",
          "data": {
            "text/plain": [
              "{1, 2, 3, 4, 5, 6, 7, 8, 9, 'de'}"
            ]
          },
          "metadata": {},
          "execution_count": 35
        }
      ]
    },
    {
      "cell_type": "code",
      "source": [
        "def print_bootcamp_participant():\n",
        "  print(\"We are glad you are here ! :)\")"
      ],
      "metadata": {
        "id": "jkcFHee5G2nm"
      },
      "execution_count": 36,
      "outputs": []
    },
    {
      "cell_type": "code",
      "source": [
        "print_bootcamp_participant()"
      ],
      "metadata": {
        "id": "_F2UvssiHftf",
        "colab": {
          "base_uri": "https://localhost:8080/"
        },
        "outputId": "ba3b4a6e-27d4-4ae0-a8c8-c20047cc4730"
      },
      "execution_count": 37,
      "outputs": [
        {
          "output_type": "stream",
          "name": "stdout",
          "text": [
            "We are glad you are here ! :)\n"
          ]
        }
      ]
    },
    {
      "cell_type": "code",
      "source": [
        "def print_return():\n",
        "  print(\"We are glad you are here ! :)\")"
      ],
      "metadata": {
        "id": "Qw8C625eHtGk"
      },
      "execution_count": 38,
      "outputs": []
    },
    {
      "cell_type": "code",
      "source": [
        "print_return()"
      ],
      "metadata": {
        "id": "ZfgzFRDWIBpi",
        "colab": {
          "base_uri": "https://localhost:8080/"
        },
        "outputId": "ac3a4a00-f56e-492f-8179-73536aa8eeca"
      },
      "execution_count": 39,
      "outputs": [
        {
          "output_type": "stream",
          "name": "stdout",
          "text": [
            "We are glad you are here ! :)\n"
          ]
        }
      ]
    },
    {
      "cell_type": "code",
      "source": [
        "def parameter_func(name):\n",
        "  return \"Hello \" + name + \"I am 100 years old \" + \"You're old but gold \""
      ],
      "metadata": {
        "id": "WlyRTgNdIWSo"
      },
      "execution_count": 40,
      "outputs": []
    },
    {
      "cell_type": "code",
      "source": [
        "parameter_func(\"Dilara \")"
      ],
      "metadata": {
        "id": "LFntBVa_Je3a",
        "colab": {
          "base_uri": "https://localhost:8080/",
          "height": 35
        },
        "outputId": "47af52ce-d7d8-431c-ad5f-75e57e64a3d9"
      },
      "execution_count": 41,
      "outputs": [
        {
          "output_type": "execute_result",
          "data": {
            "text/plain": [
              "\"Hello Dilara I am 100 years old You're old but gold \""
            ],
            "application/vnd.google.colaboratory.intrinsic+json": {
              "type": "string"
            }
          },
          "metadata": {},
          "execution_count": 41
        }
      ]
    },
    {
      "cell_type": "code",
      "source": [
        "parameter_func(\"Deniz \")"
      ],
      "metadata": {
        "id": "3g2u3bMPJjla",
        "colab": {
          "base_uri": "https://localhost:8080/",
          "height": 35
        },
        "outputId": "cf3d45df-dabb-4ca1-d686-45a26466374e"
      },
      "execution_count": 42,
      "outputs": [
        {
          "output_type": "execute_result",
          "data": {
            "text/plain": [
              "\"Hello Deniz I am 100 years old You're old but gold \""
            ],
            "application/vnd.google.colaboratory.intrinsic+json": {
              "type": "string"
            }
          },
          "metadata": {},
          "execution_count": 42
        }
      ]
    },
    {
      "cell_type": "code",
      "source": [
        "sum([1,2,3,4,5])"
      ],
      "metadata": {
        "id": "OHLjgjMGKxSA",
        "colab": {
          "base_uri": "https://localhost:8080/"
        },
        "outputId": "99e710e8-f65e-4224-a124-314c3b93793a"
      },
      "execution_count": 43,
      "outputs": [
        {
          "output_type": "execute_result",
          "data": {
            "text/plain": [
              "15"
            ]
          },
          "metadata": {},
          "execution_count": 43
        }
      ]
    },
    {
      "cell_type": "code",
      "source": [
        "list1 = [1,2,3,4,5]\n",
        "result = 0\n",
        "\n",
        "for i in list1:\n",
        "  result += i\n",
        "  print(result)"
      ],
      "metadata": {
        "id": "r1YZ8e9jMyyt",
        "colab": {
          "base_uri": "https://localhost:8080/"
        },
        "outputId": "7925907e-aec1-47c0-e0d3-5a96be770d92"
      },
      "execution_count": 44,
      "outputs": [
        {
          "output_type": "stream",
          "name": "stdout",
          "text": [
            "1\n",
            "3\n",
            "6\n",
            "10\n",
            "15\n"
          ]
        }
      ]
    },
    {
      "cell_type": "code",
      "source": [
        "def sum_list(list1):\n",
        "  result = 0\n",
        "  for i in list1:\n",
        "    result += i\n",
        "  print(result)"
      ],
      "metadata": {
        "id": "eH6BmPYSSArO"
      },
      "execution_count": null,
      "outputs": []
    },
    {
      "cell_type": "code",
      "source": [
        "sum_list(list1)"
      ],
      "metadata": {
        "colab": {
          "base_uri": "https://localhost:8080/"
        },
        "id": "5f4QQvfiSrVL",
        "outputId": "efa9ce7d-6e50-484d-a68a-e1ab12f2d697"
      },
      "execution_count": 45,
      "outputs": [
        {
          "output_type": "stream",
          "name": "stdout",
          "text": [
            "15\n"
          ]
        }
      ]
    },
    {
      "cell_type": "code",
      "source": [
        "# Sum of squares of numbers 0 to n\n",
        "def square_sum(n):\n",
        "  result = 0\n",
        "  for x in range(1, n+1):\n",
        "    result = result + x ** 2\n",
        "  return result"
      ],
      "metadata": {
        "id": "7jVN5rnOLu6e"
      },
      "execution_count": null,
      "outputs": []
    },
    {
      "cell_type": "code",
      "source": [
        "list = [1,2,3,4,37,24,46,78]\n",
        "list.sort() # Timsort = merge sort & insertion sort\n",
        "list"
      ],
      "metadata": {
        "colab": {
          "base_uri": "https://localhost:8080/"
        },
        "id": "W28CYvczX87Y",
        "outputId": "de8a0833-549e-497c-e1db-1cf35bfba4af"
      },
      "execution_count": null,
      "outputs": [
        {
          "output_type": "execute_result",
          "data": {
            "text/plain": [
              "[1, 2, 3, 4, 24, 37, 46, 78]"
            ]
          },
          "metadata": {},
          "execution_count": 15
        }
      ]
    },
    {
      "cell_type": "code",
      "source": [
        "square_sum(5)"
      ],
      "metadata": {
        "colab": {
          "base_uri": "https://localhost:8080/"
        },
        "id": "Q-h9qONUUzbL",
        "outputId": "ba16f409-d245-4f60-8af2-ecb21ebe26a5"
      },
      "execution_count": null,
      "outputs": [
        {
          "output_type": "execute_result",
          "data": {
            "text/plain": [
              "55"
            ]
          },
          "metadata": {},
          "execution_count": 16
        }
      ]
    },
    {
      "cell_type": "code",
      "source": [
        "def square_sum2(n):\n",
        "  return n * (n + 1) * (2 * n + 1) / 6"
      ],
      "metadata": {
        "id": "ss6F0fr0VMH7"
      },
      "execution_count": null,
      "outputs": []
    },
    {
      "cell_type": "code",
      "source": [
        "square_sum2(5)"
      ],
      "metadata": {
        "colab": {
          "base_uri": "https://localhost:8080/"
        },
        "id": "9u4HbPcfWeTt",
        "outputId": "a522c4d5-6d07-4d5d-a8f2-a8334059e011"
      },
      "execution_count": null,
      "outputs": [
        {
          "output_type": "execute_result",
          "data": {
            "text/plain": [
              "55.0"
            ]
          },
          "metadata": {},
          "execution_count": 18
        }
      ]
    },
    {
      "cell_type": "markdown",
      "source": [
        "## Big-O Notation"
      ],
      "metadata": {
        "id": "iesHnZ0-b_If"
      }
    },
    {
      "cell_type": "code",
      "source": [
        "a = [2,3,4]\n",
        "b = [3,2,4]\n",
        "c = [3,4,2]"
      ],
      "metadata": {
        "id": "ROhXZQjtbxzP"
      },
      "execution_count": 47,
      "outputs": []
    }
  ]
}