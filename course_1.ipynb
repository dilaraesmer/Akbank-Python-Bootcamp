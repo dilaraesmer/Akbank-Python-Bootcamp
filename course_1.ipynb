{
  "nbformat": 4,
  "nbformat_minor": 0,
  "metadata": {
    "colab": {
      "provenance": [],
      "authorship_tag": "ABX9TyPrDgw4SI58n0yiT7wVjCgF",
      "include_colab_link": true
    },
    "kernelspec": {
      "name": "python3",
      "display_name": "Python 3"
    },
    "language_info": {
      "name": "python"
    }
  },
  "cells": [
    {
      "cell_type": "markdown",
      "metadata": {
        "id": "view-in-github",
        "colab_type": "text"
      },
      "source": [
        "<a href=\"https://colab.research.google.com/github/dilaraesmer/Akbank-Python-Bootcamp/blob/main/course_1.ipynb\" target=\"_parent\"><img src=\"https://colab.research.google.com/assets/colab-badge.svg\" alt=\"Open In Colab\"/></a>"
      ]
    },
    {
      "cell_type": "markdown",
      "source": [
        "## Data types\n",
        "\n",
        "int\n",
        "\n",
        "float\n",
        "\n",
        "string\n",
        "\n",
        "bool"
      ],
      "metadata": {
        "id": "J7ogmdf83e4g"
      }
    },
    {
      "cell_type": "code",
      "source": [
        "float_data = 2.3\n",
        "x = 3.4\n",
        "print(f\"Float Data: {float_data}\\nx: {x}\")"
      ],
      "metadata": {
        "colab": {
          "base_uri": "https://localhost:8080/"
        },
        "id": "qrudesvv9Jso",
        "outputId": "2df6986f-a066-4d85-fd1a-3910168ab4ef"
      },
      "execution_count": 8,
      "outputs": [
        {
          "output_type": "stream",
          "name": "stdout",
          "text": [
            "Float Data: 2.3\n",
            "x: 3.4\n"
          ]
        }
      ]
    },
    {
      "cell_type": "code",
      "source": [
        "round(float_data)"
      ],
      "metadata": {
        "colab": {
          "base_uri": "https://localhost:8080/"
        },
        "id": "33dY258cvEVK",
        "outputId": "f6d2e001-51d2-43ba-efd0-d475e7546342"
      },
      "execution_count": 9,
      "outputs": [
        {
          "output_type": "execute_result",
          "data": {
            "text/plain": [
              "2"
            ]
          },
          "metadata": {},
          "execution_count": 9
        }
      ]
    },
    {
      "cell_type": "code",
      "source": [
        "round(7.9)"
      ],
      "metadata": {
        "colab": {
          "base_uri": "https://localhost:8080/"
        },
        "id": "sz25F-qdwcTN",
        "outputId": "7a514bef-e46b-4208-8814-bd5045fc47a2"
      },
      "execution_count": 10,
      "outputs": [
        {
          "output_type": "execute_result",
          "data": {
            "text/plain": [
              "8"
            ]
          },
          "metadata": {},
          "execution_count": 10
        }
      ]
    },
    {
      "cell_type": "code",
      "source": [
        "round(14.2)"
      ],
      "metadata": {
        "colab": {
          "base_uri": "https://localhost:8080/"
        },
        "id": "BXYUPNu_whVf",
        "outputId": "a3a7e826-7c2d-4959-9a5c-16ff28172b45"
      },
      "execution_count": 11,
      "outputs": [
        {
          "output_type": "execute_result",
          "data": {
            "text/plain": [
              "14"
            ]
          },
          "metadata": {},
          "execution_count": 11
        }
      ]
    },
    {
      "cell_type": "code",
      "source": [
        "abs(-16)"
      ],
      "metadata": {
        "colab": {
          "base_uri": "https://localhost:8080/"
        },
        "id": "pzB2OHvMwpUS",
        "outputId": "1c0f311a-2c66-4f40-ac31-10b643f0143c"
      },
      "execution_count": 12,
      "outputs": [
        {
          "output_type": "execute_result",
          "data": {
            "text/plain": [
              "16"
            ]
          },
          "metadata": {},
          "execution_count": 12
        }
      ]
    },
    {
      "cell_type": "markdown",
      "source": [
        "## Mathematical Operators (+, -, *, /, %)\n",
        "\n",
        "exponents (^) multiplication (*) and division (/) addition (+) and subtraction (-)"
      ],
      "metadata": {
        "id": "SkGrWbOww_Kz"
      }
    },
    {
      "cell_type": "code",
      "source": [
        "# Mathematical Operators\n",
        "x = 26\n",
        "print(x + 2)\n",
        "print(x - 2)\n",
        "print(x * 2)\n",
        "print(x % 2)\n",
        "print(x / 2)\n",
        "print(x // 2)\n",
        "print(x ** 2)"
      ],
      "metadata": {
        "colab": {
          "base_uri": "https://localhost:8080/"
        },
        "id": "D8k8mFVgwxLm",
        "outputId": "010b19a9-d243-448f-d724-a59d6349614a"
      },
      "execution_count": 13,
      "outputs": [
        {
          "output_type": "stream",
          "name": "stdout",
          "text": [
            "28\n",
            "24\n",
            "52\n",
            "0\n",
            "13.0\n",
            "13\n",
            "676\n"
          ]
        }
      ]
    },
    {
      "cell_type": "code",
      "source": [
        "26 ** 26"
      ],
      "metadata": {
        "colab": {
          "base_uri": "https://localhost:8080/"
        },
        "id": "F5TjhguDypN8",
        "outputId": "467a8b1c-91a1-4d2f-d669-7afce0f2ed6e"
      },
      "execution_count": 14,
      "outputs": [
        {
          "output_type": "execute_result",
          "data": {
            "text/plain": [
              "6156119580207157310796674288400203776"
            ]
          },
          "metadata": {},
          "execution_count": 14
        }
      ]
    },
    {
      "cell_type": "markdown",
      "source": [
        "## Type Conversion"
      ],
      "metadata": {
        "id": "x9N5Hn3olsz6"
      }
    },
    {
      "cell_type": "code",
      "source": [
        "x = 10 "
      ],
      "metadata": {
        "id": "prqmpGJNkhlk"
      },
      "execution_count": 15,
      "outputs": []
    },
    {
      "cell_type": "code",
      "source": [
        "x = 4"
      ],
      "metadata": {
        "id": "nhpfjSWcmQAo"
      },
      "execution_count": 16,
      "outputs": []
    },
    {
      "cell_type": "code",
      "source": [
        "x"
      ],
      "metadata": {
        "colab": {
          "base_uri": "https://localhost:8080/"
        },
        "id": "g_HpahiPmlxs",
        "outputId": "e8272873-359b-4b30-da0b-87f5d8d652e2"
      },
      "execution_count": 17,
      "outputs": [
        {
          "output_type": "execute_result",
          "data": {
            "text/plain": [
              "4"
            ]
          },
          "metadata": {},
          "execution_count": 17
        }
      ]
    },
    {
      "cell_type": "code",
      "source": [],
      "metadata": {
        "id": "ZmXALpcFmm3F"
      },
      "execution_count": null,
      "outputs": []
    }
  ]
}