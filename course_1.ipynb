{
  "nbformat": 4,
  "nbformat_minor": 0,
  "metadata": {
    "colab": {
      "provenance": [],
      "authorship_tag": "ABX9TyNptpkcFLcQGX7kIcALsJ8H",
      "include_colab_link": true
    },
    "kernelspec": {
      "name": "python3",
      "display_name": "Python 3"
    },
    "language_info": {
      "name": "python"
    }
  },
  "cells": [
    {
      "cell_type": "markdown",
      "metadata": {
        "id": "view-in-github",
        "colab_type": "text"
      },
      "source": [
        "<a href=\"https://colab.research.google.com/github/dilaraesmer/Akbank-Python-Bootcamp/blob/main/course_1.ipynb\" target=\"_parent\"><img src=\"https://colab.research.google.com/assets/colab-badge.svg\" alt=\"Open In Colab\"/></a>"
      ]
    },
    {
      "cell_type": "markdown",
      "source": [
        "## Data types\n",
        "\n",
        "int\n",
        "\n",
        "float\n",
        "\n",
        "string\n",
        "\n",
        "bool"
      ],
      "metadata": {
        "id": "J7ogmdf83e4g"
      }
    },
    {
      "cell_type": "code",
      "source": [],
      "metadata": {
        "id": "qrudesvv9Jso"
      },
      "execution_count": null,
      "outputs": []
    }
  ]
}