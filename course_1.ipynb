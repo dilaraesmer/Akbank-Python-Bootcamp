{
  "nbformat": 4,
  "nbformat_minor": 0,
  "metadata": {
    "colab": {
      "provenance": [],
      "authorship_tag": "ABX9TyNm0ZU0yy5ysK8Q1Wk3Gr+S",
      "include_colab_link": true
    },
    "kernelspec": {
      "name": "python3",
      "display_name": "Python 3"
    },
    "language_info": {
      "name": "python"
    }
  },
  "cells": [
    {
      "cell_type": "markdown",
      "metadata": {
        "id": "view-in-github",
        "colab_type": "text"
      },
      "source": [
        "<a href=\"https://colab.research.google.com/github/dilaraesmer/Akbank-Python-Bootcamp/blob/main/course_1.ipynb\" target=\"_parent\"><img src=\"https://colab.research.google.com/assets/colab-badge.svg\" alt=\"Open In Colab\"/></a>"
      ]
    },
    {
      "cell_type": "markdown",
      "source": [
        "## Data types\n",
        "\n",
        "int\n",
        "\n",
        "float\n",
        "\n",
        "string\n",
        "\n",
        "bool"
      ],
      "metadata": {
        "id": "J7ogmdf83e4g"
      }
    },
    {
      "cell_type": "code",
      "source": [
        "float_data = 2.3\n",
        "x = 3.4\n",
        "print(f\"Float Data: {float_data}\\nx: {x}\")"
      ],
      "metadata": {
        "colab": {
          "base_uri": "https://localhost:8080/"
        },
        "id": "qrudesvv9Jso",
        "outputId": "75edca1e-9239-45a2-ac6e-75a9fc168e8c"
      },
      "execution_count": 10,
      "outputs": [
        {
          "output_type": "stream",
          "name": "stdout",
          "text": [
            "Float Data: 2.3\n",
            "x: 3.4\n"
          ]
        }
      ]
    },
    {
      "cell_type": "code",
      "source": [
        "round(float_data)"
      ],
      "metadata": {
        "colab": {
          "base_uri": "https://localhost:8080/"
        },
        "id": "33dY258cvEVK",
        "outputId": "5472ea5c-a608-472b-83e8-be2a4eab17de"
      },
      "execution_count": 11,
      "outputs": [
        {
          "output_type": "execute_result",
          "data": {
            "text/plain": [
              "2"
            ]
          },
          "metadata": {},
          "execution_count": 11
        }
      ]
    },
    {
      "cell_type": "code",
      "source": [
        "round(7.9)"
      ],
      "metadata": {
        "colab": {
          "base_uri": "https://localhost:8080/"
        },
        "id": "sz25F-qdwcTN",
        "outputId": "10c68053-93cb-420d-f6e5-78c4cbe4d3c6"
      },
      "execution_count": 12,
      "outputs": [
        {
          "output_type": "execute_result",
          "data": {
            "text/plain": [
              "8"
            ]
          },
          "metadata": {},
          "execution_count": 12
        }
      ]
    },
    {
      "cell_type": "code",
      "source": [
        "round(14.2)"
      ],
      "metadata": {
        "colab": {
          "base_uri": "https://localhost:8080/"
        },
        "id": "BXYUPNu_whVf",
        "outputId": "968761a6-869c-4f37-ffe6-d9fb315a9d0c"
      },
      "execution_count": null,
      "outputs": [
        {
          "output_type": "execute_result",
          "data": {
            "text/plain": [
              "14"
            ]
          },
          "metadata": {},
          "execution_count": 6
        }
      ]
    },
    {
      "cell_type": "code",
      "source": [
        "abs(-16)"
      ],
      "metadata": {
        "colab": {
          "base_uri": "https://localhost:8080/"
        },
        "id": "pzB2OHvMwpUS",
        "outputId": "bedfd565-8de9-47be-9a22-144fc84dba61"
      },
      "execution_count": null,
      "outputs": [
        {
          "output_type": "execute_result",
          "data": {
            "text/plain": [
              "16"
            ]
          },
          "metadata": {},
          "execution_count": 7
        }
      ]
    },
    {
      "cell_type": "markdown",
      "source": [
        "## Mathematical Operators (+, -, *, /, ^)\n",
        "\n",
        "exponents (^) multiplication (*) and division (/) addition (+) and subtraction (-)"
      ],
      "metadata": {
        "id": "SkGrWbOww_Kz"
      }
    },
    {
      "cell_type": "code",
      "source": [
        "# Mathematical Operators\n",
        "x = 26\n",
        "print(x + 2)\n",
        "print(x - 2)\n",
        "print(x * 2)\n",
        "print(x % 2)\n",
        "print(x / 2)\n",
        "print(x // 2)\n",
        "print(x ** 2)"
      ],
      "metadata": {
        "colab": {
          "base_uri": "https://localhost:8080/"
        },
        "id": "D8k8mFVgwxLm",
        "outputId": "b3fee9ef-4618-4d3d-ff73-89e7b418c343"
      },
      "execution_count": 15,
      "outputs": [
        {
          "output_type": "stream",
          "name": "stdout",
          "text": [
            "28\n",
            "24\n",
            "52\n",
            "0\n",
            "13.0\n",
            "13\n",
            "676\n"
          ]
        }
      ]
    },
    {
      "cell_type": "code",
      "source": [
        "26 ** 26"
      ],
      "metadata": {
        "id": "F5TjhguDypN8",
        "outputId": "5200b0fc-5a3b-40d7-ae34-228caadf260f",
        "colab": {
          "base_uri": "https://localhost:8080/"
        }
      },
      "execution_count": 16,
      "outputs": [
        {
          "output_type": "execute_result",
          "data": {
            "text/plain": [
              "6156119580207157310796674288400203776"
            ]
          },
          "metadata": {},
          "execution_count": 16
        }
      ]
    }
  ]
}