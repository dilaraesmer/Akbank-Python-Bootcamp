{
  "nbformat": 4,
  "nbformat_minor": 0,
  "metadata": {
    "colab": {
      "provenance": [],
      "authorship_tag": "ABX9TyOhqwbi+XWh6fKRWaCuniZm",
      "include_colab_link": true
    },
    "kernelspec": {
      "name": "python3",
      "display_name": "Python 3"
    },
    "language_info": {
      "name": "python"
    }
  },
  "cells": [
    {
      "cell_type": "markdown",
      "metadata": {
        "id": "view-in-github",
        "colab_type": "text"
      },
      "source": [
        "<a href=\"https://colab.research.google.com/github/dilaraesmer/Akbank-Python-Bootcamp/blob/main/proje_%C3%A7al%C4%B1%C5%9Fmas%C4%B1.ipynb\" target=\"_parent\"><img src=\"https://colab.research.google.com/assets/colab-badge.svg\" alt=\"Open In Colab\"/></a>"
      ]
    },
    {
      "cell_type": "code",
      "source": [
        "import csv\n",
        "import datetime"
      ],
      "metadata": {
        "id": "TZjpUR4kx0eR"
      },
      "execution_count": 3,
      "outputs": []
    },
    {
      "cell_type": "code",
      "source": [
        "class Pizza:\n",
        "    def __init__(self, description, cost):\n",
        "        self.__description = description\n",
        "        self.__cost = cost\n",
        "        \n",
        "    def get_description(self):\n",
        "        return self.__description\n",
        "    \n",
        "    def get_cost(self):\n",
        "        return self.__cost"
      ],
      "metadata": {
        "id": "bivU_qLCq_3w"
      },
      "execution_count": 2,
      "outputs": []
    },
    {
      "cell_type": "code",
      "execution_count": 1,
      "metadata": {
        "id": "BJJ9xSk4lxCp"
      },
      "outputs": [],
      "source": [
        "with open('Menu.txt', 'w') as file:\n",
        "  file.write('* Lütfen Bir Pizza Tabanı Seçiniz:\\n')\n",
        "  file.write('1: Klasik\\n')\n",
        "  file.write('2: Margarita\\n')\n",
        "  file.write('3: TürkPizza\\n')\n",
        "  file.write('4: Sade Pizza\\n')\n",
        "  file.write('* ve seçeceğiniz sos:\\n')\n",
        "  file.write('11: Zeytin\\n')\n",
        "  file.write('12: Mantarlar\\n')\n",
        "  file.write('13: Keçi Peyniri\\n')\n",
        "  file.write('14: Et\\n')\n",
        "  file.write('15: Soğan\\n')\n",
        "  file.write('16: Mısır\\n')\n",
        "  file.write('* Teşekkür ederiz!')"
      ]
    },
    {
      "cell_type": "code",
      "source": [],
      "metadata": {
        "id": "c4C2TUpVxzCm"
      },
      "execution_count": null,
      "outputs": []
    }
  ]
}