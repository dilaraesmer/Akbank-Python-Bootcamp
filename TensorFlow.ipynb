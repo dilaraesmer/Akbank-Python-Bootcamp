{
  "nbformat": 4,
  "nbformat_minor": 0,
  "metadata": {
    "colab": {
      "provenance": [],
      "authorship_tag": "ABX9TyM/RTj6ZDVc+zdoe4RedhTs",
      "include_colab_link": true
    },
    "kernelspec": {
      "name": "python3",
      "display_name": "Python 3"
    },
    "language_info": {
      "name": "python"
    }
  },
  "cells": [
    {
      "cell_type": "markdown",
      "metadata": {
        "id": "view-in-github",
        "colab_type": "text"
      },
      "source": [
        "<a href=\"https://colab.research.google.com/github/dilaraesmer/Akbank-Python-Bootcamp/blob/main/TensorFlow.ipynb\" target=\"_parent\"><img src=\"https://colab.research.google.com/assets/colab-badge.svg\" alt=\"Open In Colab\"/></a>"
      ]
    },
    {
      "cell_type": "code",
      "execution_count": 21,
      "metadata": {
        "id": "dRmdfl3gkfxv"
      },
      "outputs": [],
      "source": [
        "import tensorflow as tf"
      ]
    },
    {
      "cell_type": "markdown",
      "source": [
        "TensorFlow provides software engineers and data scientists with a tool to build, train and work with deep learning models to draw predictions from data.\n",
        "\n",
        "https://builtin.com/data-science/tensorflow"
      ],
      "metadata": {
        "id": "TPNf-QVw7qj_"
      }
    },
    {
      "cell_type": "code",
      "source": [
        "# define the model \n",
        "model = tf.keras.Sequential([\n",
        "    tf.keras.layers.Dense(10, input_shape=(8,), activation = 'relu'),\n",
        "    tf.keras.layers.Dense(1, activation='sigmoid')\n",
        "])\n",
        "\n",
        "# compile the model\n",
        "model.compile(optimizer='adam', loss='binary_crossentropy', metrics=['accuracy'])"
      ],
      "metadata": {
        "id": "nkLXXQ1k8jXO"
      },
      "execution_count": null,
      "outputs": []
    },
    {
      "cell_type": "markdown",
      "source": [
        "Import Data"
      ],
      "metadata": {
        "id": "4Uwci8qXHmGP"
      }
    },
    {
      "cell_type": "code",
      "source": [
        "import pandas as pd\n",
        "from sklearn.model_selection import train_test_split"
      ],
      "metadata": {
        "id": "IrPgWuVOHpan"
      },
      "execution_count": null,
      "outputs": []
    },
    {
      "cell_type": "code",
      "source": [
        "df = pd.read_csv('Churn.csv')"
      ],
      "metadata": {
        "id": "iVFyKcI4IhVx"
      },
      "execution_count": null,
      "outputs": []
    },
    {
      "cell_type": "code",
      "source": [
        "X = pd.get_dummies(df.drop(['Churn', 'Customer ID'], axis=1))\n",
        "y = df['Churn'].apply(lambda x: 1 if x == 'Yes' else 0)"
      ],
      "metadata": {
        "id": "DCq9Ho19I88C"
      },
      "execution_count": null,
      "outputs": []
    },
    {
      "cell_type": "code",
      "source": [
        "X_train, X_test, y_train, y_test = train_test_split(X, y, test_size=.2)"
      ],
      "metadata": {
        "id": "742iIjHoJxp5"
      },
      "execution_count": null,
      "outputs": []
    },
    {
      "cell_type": "code",
      "source": [
        "X_train.head()"
      ],
      "metadata": {
        "id": "FYdMiB8KK0St",
        "colab": {
          "base_uri": "https://localhost:8080/",
          "height": 317
        },
        "outputId": "bc871dfb-a156-437a-a821-efa4f43f8006"
      },
      "execution_count": null,
      "outputs": [
        {
          "output_type": "execute_result",
          "data": {
            "text/plain": [
              "      Senior Citizen  tenure  Monthly Charges  Gender_Female  Gender_Male  \\\n",
              "6466               0      59            20.60              1            0   \n",
              "2798               0       3           100.95              0            1   \n",
              "4225               0      71            19.60              1            0   \n",
              "6160               0       2            20.50              1            0   \n",
              "4965               0      26            74.95              1            0   \n",
              "\n",
              "      Partner_No  Partner_Yes  Dependents_No  Dependents_Yes  \\\n",
              "6466           0            1              0               1   \n",
              "2798           1            0              1               0   \n",
              "4225           0            1              1               0   \n",
              "6160           1            0              0               1   \n",
              "4965           1            0              1               0   \n",
              "\n",
              "      Phone Service_No  ...  Total Charges_995.35  Total Charges_996.45  \\\n",
              "6466                 0  ...                     0                     0   \n",
              "2798                 0  ...                     0                     0   \n",
              "4225                 0  ...                     0                     0   \n",
              "6160                 0  ...                     0                     0   \n",
              "4965                 0  ...                     0                     0   \n",
              "\n",
              "      Total Charges_996.85  Total Charges_996.95  Total Charges_997.65  \\\n",
              "6466                     0                     0                     0   \n",
              "2798                     0                     0                     0   \n",
              "4225                     0                     0                     0   \n",
              "6160                     0                     0                     0   \n",
              "4965                     0                     0                     0   \n",
              "\n",
              "      Total Charges_997.75  Total Charges_998.1  Total Charges_999.45  \\\n",
              "6466                     0                    0                     0   \n",
              "2798                     0                    0                     0   \n",
              "4225                     0                    0                     0   \n",
              "6160                     0                    0                     0   \n",
              "4965                     0                    0                     0   \n",
              "\n",
              "      Total Charges_999.8  Total Charges_999.9  \n",
              "6466                    0                    0  \n",
              "2798                    0                    0  \n",
              "4225                    0                    0  \n",
              "6160                    0                    0  \n",
              "4965                    0                    0  \n",
              "\n",
              "[5 rows x 6575 columns]"
            ],
            "text/html": [
              "\n",
              "  <div id=\"df-8a8de42f-2c3d-4a09-946f-796410c844fe\">\n",
              "    <div class=\"colab-df-container\">\n",
              "      <div>\n",
              "<style scoped>\n",
              "    .dataframe tbody tr th:only-of-type {\n",
              "        vertical-align: middle;\n",
              "    }\n",
              "\n",
              "    .dataframe tbody tr th {\n",
              "        vertical-align: top;\n",
              "    }\n",
              "\n",
              "    .dataframe thead th {\n",
              "        text-align: right;\n",
              "    }\n",
              "</style>\n",
              "<table border=\"1\" class=\"dataframe\">\n",
              "  <thead>\n",
              "    <tr style=\"text-align: right;\">\n",
              "      <th></th>\n",
              "      <th>Senior Citizen</th>\n",
              "      <th>tenure</th>\n",
              "      <th>Monthly Charges</th>\n",
              "      <th>Gender_Female</th>\n",
              "      <th>Gender_Male</th>\n",
              "      <th>Partner_No</th>\n",
              "      <th>Partner_Yes</th>\n",
              "      <th>Dependents_No</th>\n",
              "      <th>Dependents_Yes</th>\n",
              "      <th>Phone Service_No</th>\n",
              "      <th>...</th>\n",
              "      <th>Total Charges_995.35</th>\n",
              "      <th>Total Charges_996.45</th>\n",
              "      <th>Total Charges_996.85</th>\n",
              "      <th>Total Charges_996.95</th>\n",
              "      <th>Total Charges_997.65</th>\n",
              "      <th>Total Charges_997.75</th>\n",
              "      <th>Total Charges_998.1</th>\n",
              "      <th>Total Charges_999.45</th>\n",
              "      <th>Total Charges_999.8</th>\n",
              "      <th>Total Charges_999.9</th>\n",
              "    </tr>\n",
              "  </thead>\n",
              "  <tbody>\n",
              "    <tr>\n",
              "      <th>6466</th>\n",
              "      <td>0</td>\n",
              "      <td>59</td>\n",
              "      <td>20.60</td>\n",
              "      <td>1</td>\n",
              "      <td>0</td>\n",
              "      <td>0</td>\n",
              "      <td>1</td>\n",
              "      <td>0</td>\n",
              "      <td>1</td>\n",
              "      <td>0</td>\n",
              "      <td>...</td>\n",
              "      <td>0</td>\n",
              "      <td>0</td>\n",
              "      <td>0</td>\n",
              "      <td>0</td>\n",
              "      <td>0</td>\n",
              "      <td>0</td>\n",
              "      <td>0</td>\n",
              "      <td>0</td>\n",
              "      <td>0</td>\n",
              "      <td>0</td>\n",
              "    </tr>\n",
              "    <tr>\n",
              "      <th>2798</th>\n",
              "      <td>0</td>\n",
              "      <td>3</td>\n",
              "      <td>100.95</td>\n",
              "      <td>0</td>\n",
              "      <td>1</td>\n",
              "      <td>1</td>\n",
              "      <td>0</td>\n",
              "      <td>1</td>\n",
              "      <td>0</td>\n",
              "      <td>0</td>\n",
              "      <td>...</td>\n",
              "      <td>0</td>\n",
              "      <td>0</td>\n",
              "      <td>0</td>\n",
              "      <td>0</td>\n",
              "      <td>0</td>\n",
              "      <td>0</td>\n",
              "      <td>0</td>\n",
              "      <td>0</td>\n",
              "      <td>0</td>\n",
              "      <td>0</td>\n",
              "    </tr>\n",
              "    <tr>\n",
              "      <th>4225</th>\n",
              "      <td>0</td>\n",
              "      <td>71</td>\n",
              "      <td>19.60</td>\n",
              "      <td>1</td>\n",
              "      <td>0</td>\n",
              "      <td>0</td>\n",
              "      <td>1</td>\n",
              "      <td>1</td>\n",
              "      <td>0</td>\n",
              "      <td>0</td>\n",
              "      <td>...</td>\n",
              "      <td>0</td>\n",
              "      <td>0</td>\n",
              "      <td>0</td>\n",
              "      <td>0</td>\n",
              "      <td>0</td>\n",
              "      <td>0</td>\n",
              "      <td>0</td>\n",
              "      <td>0</td>\n",
              "      <td>0</td>\n",
              "      <td>0</td>\n",
              "    </tr>\n",
              "    <tr>\n",
              "      <th>6160</th>\n",
              "      <td>0</td>\n",
              "      <td>2</td>\n",
              "      <td>20.50</td>\n",
              "      <td>1</td>\n",
              "      <td>0</td>\n",
              "      <td>1</td>\n",
              "      <td>0</td>\n",
              "      <td>0</td>\n",
              "      <td>1</td>\n",
              "      <td>0</td>\n",
              "      <td>...</td>\n",
              "      <td>0</td>\n",
              "      <td>0</td>\n",
              "      <td>0</td>\n",
              "      <td>0</td>\n",
              "      <td>0</td>\n",
              "      <td>0</td>\n",
              "      <td>0</td>\n",
              "      <td>0</td>\n",
              "      <td>0</td>\n",
              "      <td>0</td>\n",
              "    </tr>\n",
              "    <tr>\n",
              "      <th>4965</th>\n",
              "      <td>0</td>\n",
              "      <td>26</td>\n",
              "      <td>74.95</td>\n",
              "      <td>1</td>\n",
              "      <td>0</td>\n",
              "      <td>1</td>\n",
              "      <td>0</td>\n",
              "      <td>1</td>\n",
              "      <td>0</td>\n",
              "      <td>0</td>\n",
              "      <td>...</td>\n",
              "      <td>0</td>\n",
              "      <td>0</td>\n",
              "      <td>0</td>\n",
              "      <td>0</td>\n",
              "      <td>0</td>\n",
              "      <td>0</td>\n",
              "      <td>0</td>\n",
              "      <td>0</td>\n",
              "      <td>0</td>\n",
              "      <td>0</td>\n",
              "    </tr>\n",
              "  </tbody>\n",
              "</table>\n",
              "<p>5 rows × 6575 columns</p>\n",
              "</div>\n",
              "      <button class=\"colab-df-convert\" onclick=\"convertToInteractive('df-8a8de42f-2c3d-4a09-946f-796410c844fe')\"\n",
              "              title=\"Convert this dataframe to an interactive table.\"\n",
              "              style=\"display:none;\">\n",
              "        \n",
              "  <svg xmlns=\"http://www.w3.org/2000/svg\" height=\"24px\"viewBox=\"0 0 24 24\"\n",
              "       width=\"24px\">\n",
              "    <path d=\"M0 0h24v24H0V0z\" fill=\"none\"/>\n",
              "    <path d=\"M18.56 5.44l.94 2.06.94-2.06 2.06-.94-2.06-.94-.94-2.06-.94 2.06-2.06.94zm-11 1L8.5 8.5l.94-2.06 2.06-.94-2.06-.94L8.5 2.5l-.94 2.06-2.06.94zm10 10l.94 2.06.94-2.06 2.06-.94-2.06-.94-.94-2.06-.94 2.06-2.06.94z\"/><path d=\"M17.41 7.96l-1.37-1.37c-.4-.4-.92-.59-1.43-.59-.52 0-1.04.2-1.43.59L10.3 9.45l-7.72 7.72c-.78.78-.78 2.05 0 2.83L4 21.41c.39.39.9.59 1.41.59.51 0 1.02-.2 1.41-.59l7.78-7.78 2.81-2.81c.8-.78.8-2.07 0-2.86zM5.41 20L4 18.59l7.72-7.72 1.47 1.35L5.41 20z\"/>\n",
              "  </svg>\n",
              "      </button>\n",
              "      \n",
              "  <style>\n",
              "    .colab-df-container {\n",
              "      display:flex;\n",
              "      flex-wrap:wrap;\n",
              "      gap: 12px;\n",
              "    }\n",
              "\n",
              "    .colab-df-convert {\n",
              "      background-color: #E8F0FE;\n",
              "      border: none;\n",
              "      border-radius: 50%;\n",
              "      cursor: pointer;\n",
              "      display: none;\n",
              "      fill: #1967D2;\n",
              "      height: 32px;\n",
              "      padding: 0 0 0 0;\n",
              "      width: 32px;\n",
              "    }\n",
              "\n",
              "    .colab-df-convert:hover {\n",
              "      background-color: #E2EBFA;\n",
              "      box-shadow: 0px 1px 2px rgba(60, 64, 67, 0.3), 0px 1px 3px 1px rgba(60, 64, 67, 0.15);\n",
              "      fill: #174EA6;\n",
              "    }\n",
              "\n",
              "    [theme=dark] .colab-df-convert {\n",
              "      background-color: #3B4455;\n",
              "      fill: #D2E3FC;\n",
              "    }\n",
              "\n",
              "    [theme=dark] .colab-df-convert:hover {\n",
              "      background-color: #434B5C;\n",
              "      box-shadow: 0px 1px 3px 1px rgba(0, 0, 0, 0.15);\n",
              "      filter: drop-shadow(0px 1px 2px rgba(0, 0, 0, 0.3));\n",
              "      fill: #FFFFFF;\n",
              "    }\n",
              "  </style>\n",
              "\n",
              "      <script>\n",
              "        const buttonEl =\n",
              "          document.querySelector('#df-8a8de42f-2c3d-4a09-946f-796410c844fe button.colab-df-convert');\n",
              "        buttonEl.style.display =\n",
              "          google.colab.kernel.accessAllowed ? 'block' : 'none';\n",
              "\n",
              "        async function convertToInteractive(key) {\n",
              "          const element = document.querySelector('#df-8a8de42f-2c3d-4a09-946f-796410c844fe');\n",
              "          const dataTable =\n",
              "            await google.colab.kernel.invokeFunction('convertToInteractive',\n",
              "                                                     [key], {});\n",
              "          if (!dataTable) return;\n",
              "\n",
              "          const docLinkHtml = 'Like what you see? Visit the ' +\n",
              "            '<a target=\"_blank\" href=https://colab.research.google.com/notebooks/data_table.ipynb>data table notebook</a>'\n",
              "            + ' to learn more about interactive tables.';\n",
              "          element.innerHTML = '';\n",
              "          dataTable['output_type'] = 'display_data';\n",
              "          await google.colab.output.renderOutput(dataTable, element);\n",
              "          const docLink = document.createElement('div');\n",
              "          docLink.innerHTML = docLinkHtml;\n",
              "          element.appendChild(docLink);\n",
              "        }\n",
              "      </script>\n",
              "    </div>\n",
              "  </div>\n",
              "  "
            ]
          },
          "metadata": {},
          "execution_count": 8
        }
      ]
    },
    {
      "cell_type": "code",
      "source": [
        "y_train.head()"
      ],
      "metadata": {
        "id": "4R2W6cQ2K5_j",
        "colab": {
          "base_uri": "https://localhost:8080/"
        },
        "outputId": "0456b0ac-8138-4bb8-cf0e-4c63a5d82afc"
      },
      "execution_count": null,
      "outputs": [
        {
          "output_type": "execute_result",
          "data": {
            "text/plain": [
              "6466    0\n",
              "2798    1\n",
              "4225    0\n",
              "6160    0\n",
              "4965    1\n",
              "Name: Churn, dtype: int64"
            ]
          },
          "metadata": {},
          "execution_count": 9
        }
      ]
    },
    {
      "cell_type": "markdown",
      "source": [
        "1- Import Dependencies"
      ],
      "metadata": {
        "id": "oxkCOqac8sE4"
      }
    },
    {
      "cell_type": "code",
      "source": [
        "from tensorflow.keras.models import Sequential, load_model\n",
        "from tensorflow.keras.layers import Dense\n",
        "from sklearn.metrics import accuracy_score"
      ],
      "metadata": {
        "id": "bgR1b2JP8wYp"
      },
      "execution_count": null,
      "outputs": []
    },
    {
      "cell_type": "markdown",
      "source": [
        "2- Build and Compile Model"
      ],
      "metadata": {
        "id": "oj0NzXIlpX9n"
      }
    },
    {
      "cell_type": "code",
      "source": [
        "model = Sequential()\n",
        "model.add(Dense(units=32, activation='relu', input_dim=len(X_train.columns)))\n",
        "model.add(Dense(units=64, activation='relu'))\n",
        "model.add(Dense(units=1, activation='sigmoid'))"
      ],
      "metadata": {
        "id": "8xN_Jh02pcCz"
      },
      "execution_count": null,
      "outputs": []
    },
    {
      "cell_type": "code",
      "source": [
        "model.compile(loss='binary_crossentropy', optimizer='sgd', metrics='accuracy')"
      ],
      "metadata": {
        "id": "9uE7E64orkZl"
      },
      "execution_count": 23,
      "outputs": []
    },
    {
      "cell_type": "markdown",
      "source": [
        "3- Fit, Predict and Evaluate"
      ],
      "metadata": {
        "id": "oDUhSRR2tGe9"
      }
    },
    {
      "cell_type": "code",
      "source": [
        "model.fit(X_train, y_train, epochs=200, batch_size=32)"
      ],
      "metadata": {
        "colab": {
          "base_uri": "https://localhost:8080/"
        },
        "id": "7Nrx6VoQs3NX",
        "outputId": "7e1fe896-a442-4279-f665-42fef9e65056"
      },
      "execution_count": null,
      "outputs": [
        {
          "output_type": "stream",
          "name": "stdout",
          "text": [
            "Epoch 1/200\n",
            "177/177 [==============================] - 1s 6ms/step - loss: 0.4222 - accuracy: 0.7995\n",
            "Epoch 2/200\n",
            "177/177 [==============================] - 1s 5ms/step - loss: 0.4223 - accuracy: 0.7968\n",
            "Epoch 3/200\n",
            "177/177 [==============================] - 1s 7ms/step - loss: 0.4198 - accuracy: 0.8011\n",
            "Epoch 4/200\n",
            "177/177 [==============================] - 1s 8ms/step - loss: 0.4224 - accuracy: 0.7991\n",
            "Epoch 5/200\n",
            "177/177 [==============================] - 1s 6ms/step - loss: 0.4214 - accuracy: 0.8027\n",
            "Epoch 6/200\n",
            "177/177 [==============================] - 1s 5ms/step - loss: 0.4225 - accuracy: 0.8005\n",
            "Epoch 7/200\n",
            "177/177 [==============================] - 1s 5ms/step - loss: 0.4211 - accuracy: 0.7986\n",
            "Epoch 8/200\n",
            "177/177 [==============================] - 1s 5ms/step - loss: 0.4218 - accuracy: 0.7991\n",
            "Epoch 9/200\n",
            "177/177 [==============================] - 1s 5ms/step - loss: 0.4245 - accuracy: 0.7966\n",
            "Epoch 10/200\n",
            "177/177 [==============================] - 1s 5ms/step - loss: 0.4240 - accuracy: 0.7991\n",
            "Epoch 11/200\n",
            "177/177 [==============================] - 1s 5ms/step - loss: 0.4193 - accuracy: 0.8043\n",
            "Epoch 12/200\n",
            "177/177 [==============================] - 1s 6ms/step - loss: 0.4216 - accuracy: 0.7979\n",
            "Epoch 13/200\n",
            "177/177 [==============================] - 1s 5ms/step - loss: 0.4228 - accuracy: 0.7977\n",
            "Epoch 14/200\n",
            "177/177 [==============================] - 1s 5ms/step - loss: 0.4212 - accuracy: 0.7965\n",
            "Epoch 15/200\n",
            "177/177 [==============================] - 1s 5ms/step - loss: 0.4235 - accuracy: 0.7984\n",
            "Epoch 16/200\n",
            "177/177 [==============================] - 1s 6ms/step - loss: 0.4210 - accuracy: 0.7998\n",
            "Epoch 17/200\n",
            "177/177 [==============================] - 1s 8ms/step - loss: 0.4210 - accuracy: 0.8018\n",
            "Epoch 18/200\n",
            "177/177 [==============================] - 1s 7ms/step - loss: 0.4191 - accuracy: 0.7989\n",
            "Epoch 19/200\n",
            "177/177 [==============================] - 1s 5ms/step - loss: 0.4202 - accuracy: 0.8004\n",
            "Epoch 20/200\n",
            "177/177 [==============================] - 1s 5ms/step - loss: 0.4199 - accuracy: 0.8059\n",
            "Epoch 21/200\n",
            "177/177 [==============================] - 1s 5ms/step - loss: 0.4233 - accuracy: 0.7980\n",
            "Epoch 22/200\n",
            "177/177 [==============================] - 1s 6ms/step - loss: 0.4215 - accuracy: 0.8007\n",
            "Epoch 23/200\n",
            "177/177 [==============================] - 1s 5ms/step - loss: 0.4181 - accuracy: 0.8014\n",
            "Epoch 24/200\n",
            "177/177 [==============================] - 1s 5ms/step - loss: 0.4180 - accuracy: 0.7982\n",
            "Epoch 25/200\n",
            "177/177 [==============================] - 1s 5ms/step - loss: 0.4188 - accuracy: 0.8023\n",
            "Epoch 26/200\n",
            "177/177 [==============================] - 1s 5ms/step - loss: 0.4198 - accuracy: 0.7995\n",
            "Epoch 27/200\n",
            "177/177 [==============================] - 1s 5ms/step - loss: 0.4209 - accuracy: 0.8014\n",
            "Epoch 28/200\n",
            "177/177 [==============================] - 1s 5ms/step - loss: 0.4188 - accuracy: 0.8020\n",
            "Epoch 29/200\n",
            "177/177 [==============================] - 1s 7ms/step - loss: 0.4200 - accuracy: 0.7995\n",
            "Epoch 30/200\n",
            "177/177 [==============================] - 2s 9ms/step - loss: 0.4192 - accuracy: 0.7998\n",
            "Epoch 31/200\n",
            "177/177 [==============================] - 1s 6ms/step - loss: 0.4198 - accuracy: 0.8007\n",
            "Epoch 32/200\n",
            "177/177 [==============================] - 1s 5ms/step - loss: 0.4184 - accuracy: 0.8007\n",
            "Epoch 33/200\n",
            "177/177 [==============================] - 1s 4ms/step - loss: 0.4215 - accuracy: 0.7988\n",
            "Epoch 34/200\n",
            "177/177 [==============================] - 1s 4ms/step - loss: 0.4209 - accuracy: 0.7959\n",
            "Epoch 35/200\n",
            "177/177 [==============================] - 1s 5ms/step - loss: 0.4198 - accuracy: 0.8027\n",
            "Epoch 36/200\n",
            "177/177 [==============================] - 1s 5ms/step - loss: 0.4202 - accuracy: 0.7993\n",
            "Epoch 37/200\n",
            "177/177 [==============================] - 1s 5ms/step - loss: 0.4218 - accuracy: 0.7965\n",
            "Epoch 38/200\n",
            "177/177 [==============================] - 1s 5ms/step - loss: 0.4212 - accuracy: 0.8030\n",
            "Epoch 39/200\n",
            "177/177 [==============================] - 1s 5ms/step - loss: 0.4184 - accuracy: 0.8021\n",
            "Epoch 40/200\n",
            "177/177 [==============================] - 1s 5ms/step - loss: 0.4187 - accuracy: 0.8032\n",
            "Epoch 41/200\n",
            " 43/177 [======>.......................] - ETA: 0s - loss: 0.4355 - accuracy: 0.7936"
          ]
        }
      ]
    }
  ]
}